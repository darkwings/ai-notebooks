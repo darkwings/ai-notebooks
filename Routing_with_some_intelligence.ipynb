{
  "nbformat": 4,
  "nbformat_minor": 0,
  "metadata": {
    "colab": {
      "provenance": [],
      "authorship_tag": "ABX9TyMzBdAFnSrMy8E1YAILpawc",
      "include_colab_link": true
    },
    "kernelspec": {
      "name": "python3",
      "display_name": "Python 3"
    },
    "language_info": {
      "name": "python"
    }
  },
  "cells": [
    {
      "cell_type": "markdown",
      "metadata": {
        "id": "view-in-github",
        "colab_type": "text"
      },
      "source": [
        "<a href=\"https://colab.research.google.com/github/darkwings/ai-notebooks/blob/main/Routing_with_some_intelligence.ipynb\" target=\"_parent\"><img src=\"https://colab.research.google.com/assets/colab-badge.svg\" alt=\"Open In Colab\"/></a>"
      ]
    },
    {
      "cell_type": "markdown",
      "source": [
        "# \"Intelligent\" routing\n",
        "\n",
        "This notebook shows how to mimic a rule engine with a LLM, using Commands.\n",
        "\n",
        "Use case is simple. A user ask for an advice about what to do.\n",
        "- If the question is related to music and is about learning a song, the flow will reason and propose a decent solution, one of\n",
        "  - practice (if the song is easy but there is short time)\n",
        "  - study (if the song is difficult)\n",
        "  - sleep (if the model detects that the user is tired, it can suggest to sleep)\n",
        "- If the model cannot decide what to do, it demands to the throwing of a coin.\n",
        "\n",
        "Despite the name of this notebook, the example is quite trivial, but it shows how the model can drive a flow.\n",
        "\n",
        "If you imagine a more complex use case, and more complex reasoning involved, it's quite easy to understand how this feature can be really useful.\n",
        "\n",
        "Evaluation of responses is out of the scope of this notebook. In the real world the workflow should be thoroughly tested to check if the decisions taken have sense."
      ],
      "metadata": {
        "id": "Ij-hhMRt6SrI"
      }
    },
    {
      "cell_type": "code",
      "source": [
        "%%capture --no-stderr\n",
        "%pip install --quiet -U langgraph langchain_openai langchain_community langchain_core tavily-python wikipedia"
      ],
      "metadata": {
        "id": "I68R35W56fQP"
      },
      "execution_count": 1,
      "outputs": []
    },
    {
      "cell_type": "code",
      "source": [
        "import os, getpass\n",
        "\n",
        "def _set_env(var: str):\n",
        "    if not os.environ.get(var):\n",
        "        os.environ[var] = getpass.getpass(f\"{var}: \")\n",
        "\n",
        "_set_env(\"OPENAI_API_KEY\")"
      ],
      "metadata": {
        "colab": {
          "base_uri": "https://localhost:8080/"
        },
        "id": "fN614wsK6n1u",
        "outputId": "4a1ca91d-76df-4e28-c2b9-fc58057bfc18"
      },
      "execution_count": 2,
      "outputs": [
        {
          "name": "stdout",
          "output_type": "stream",
          "text": [
            "OPENAI_API_KEY: ··········\n"
          ]
        }
      ]
    },
    {
      "cell_type": "markdown",
      "source": [
        "Now import all the stuff"
      ],
      "metadata": {
        "id": "dUZWsKi_FFiK"
      }
    },
    {
      "cell_type": "code",
      "source": [
        "from IPython.display import Image, display\n",
        "from langgraph.graph import StateGraph, START, END\n",
        "from typing_extensions import TypedDict\n",
        "from typing import Literal\n",
        "from langgraph.types import Command\n",
        "from pydantic import BaseModel\n",
        "from langchain_core.messages import AIMessage, HumanMessage, SystemMessage\n",
        "import random"
      ],
      "metadata": {
        "id": "R_S8kTzuFJxV"
      },
      "execution_count": 11,
      "outputs": []
    },
    {
      "cell_type": "markdown",
      "source": [
        "Let's define state and all necessary functions"
      ],
      "metadata": {
        "id": "SmGiwilaFLvl"
      }
    },
    {
      "cell_type": "code",
      "source": [
        "# Graph state\n",
        "class RuleState(TypedDict):\n",
        "  question: str\n",
        "  reasoning: str\n",
        "  short_advice: str\n",
        "  action: Literal[\"practice\", \"study\", \"sleep\", \"coin\"]\n",
        "\n",
        "# LLM Answer\n",
        "class Answer(BaseModel):\n",
        "  reasoning: str\n",
        "  action: Literal[\"practice\", \"study\", \"sleep\", \"coin\"]\n",
        "\n",
        "# Model\n",
        "from langchain_openai import ChatOpenAI\n",
        "llm = ChatOpenAI(model=\"gpt-4o\", temperature=0)\n",
        "\n",
        "system_prompt=\"\"\"\n",
        "You're in charge to decide the next action a user should take.\n",
        "\n",
        "Your role is to give an advice to a guitar player, suggesting the proper\n",
        "action given a question. You have to strictly follow these rules:\n",
        "\n",
        "- If you understand from the question that the player needs to practice, please suggest him to \"practice\".\n",
        "- If you understand from the question that the song is very difficult, please suggest him to \"study\".\n",
        "- If you understand from the question that the player needs to rest, please suggest him to \"sleep\".\n",
        "- If you don't know what to do, throw a \"coin\".\n",
        "\n",
        "Please explain the reasoning behind your decision.\n",
        "\"\"\"\n",
        "\n",
        "def decision_node(state: RuleState) -> Command[Literal[\"practice\", \"study\", \"sleep\", \"coin\"]]:\n",
        "  messages = [HumanMessage(content=f\"The question is {state['question']}\")]\n",
        "\n",
        "  answer = llm.with_structured_output(Answer).invoke([SystemMessage(content=system_prompt)]+messages)\n",
        "\n",
        "  return Command(\n",
        "    update={\"action\": answer.action, \"reasoning\": answer.reasoning},\n",
        "    goto=answer.action,\n",
        "  )\n",
        "\n",
        "def practice(state: RuleState):\n",
        "  # Do stuff\n",
        "  return {\"short_advice\": \"PRACTICE!\"}\n",
        "\n",
        "def study(state: RuleState):\n",
        "  # Do stuff\n",
        "  return {\"short_advice\": \"STUDY!\"}\n",
        "\n",
        "def sleep(state: RuleState):\n",
        "  # Do stuff\n",
        "  return {\"short_advice\": \"TAKE A NAP!\"}\n",
        "\n",
        "def coin(state: RuleState) -> Command[Literal[\"practice\", \"study\"]]:\n",
        "  coin = random.choice([\"head\", \"tail\"])\n",
        "  if coin == \"head\":\n",
        "    goto = \"practice\"\n",
        "  else:\n",
        "    goto = \"study\"\n",
        "  print(f\"I threw a coin, the result is {coin} so you have to {goto}!\")\n",
        "  return Command(\n",
        "    goto=goto\n",
        "  )"
      ],
      "metadata": {
        "id": "zgzmCyAr6rai"
      },
      "execution_count": 45,
      "outputs": []
    },
    {
      "cell_type": "markdown",
      "source": [
        "Now we can assemble the graph. We are using commands, so there is no need to define edges."
      ],
      "metadata": {
        "id": "UDJ28C87BDb_"
      }
    },
    {
      "cell_type": "code",
      "source": [
        "builder = StateGraph(RuleState)\n",
        "builder.add_edge(START, \"decision_node\")\n",
        "builder.add_node(decision_node)\n",
        "builder.add_node(practice)\n",
        "builder.add_node(study)\n",
        "builder.add_node(sleep)\n",
        "builder.add_node(coin)\n",
        "\n",
        "\n",
        "graph = builder.compile()\n",
        "\n",
        "# View\n",
        "display(Image(graph.get_graph().draw_mermaid_png()))"
      ],
      "metadata": {
        "colab": {
          "base_uri": "https://localhost:8080/",
          "height": 365
        },
        "id": "kmCJhqbmBGZp",
        "outputId": "fc286f26-c2a3-4bad-9cca-03663ade0c16"
      },
      "execution_count": 46,
      "outputs": [
        {
          "output_type": "display_data",
          "data": {
            "image/png": "[encoded data removed]",
            "text/plain": [
              "<IPython.core.display.Image object>"
            ]
          },
          "metadata": {}
        }
      ]
    },
    {
      "cell_type": "markdown",
      "source": [
        "Now we can test the graph"
      ],
      "metadata": {
        "id": "WaKgWKmCB3Ui"
      }
    },
    {
      "cell_type": "code",
      "source": [
        "ans = graph.invoke({\"question\": \"I have to learn a new song by tomorrow, it is not difficult but there is short time. What do you suggest?\"})\n",
        "print(f\"{ans['short_advice']}\")\n",
        "print(f\"Why? {ans['reasoning']}\")"
      ],
      "metadata": {
        "colab": {
          "base_uri": "https://localhost:8080/"
        },
        "id": "QoBq7j3QB5jV",
        "outputId": "b614ac82-3c8d-4bba-c663-5e8730714255"
      },
      "execution_count": 47,
      "outputs": [
        {
          "output_type": "stream",
          "name": "stdout",
          "text": [
            "PRACTICE!\n",
            "Why? The player mentions that the song is not difficult, but they have a short time to learn it. This suggests that they need to focus on practicing to ensure they can play the song well by tomorrow.\n"
          ]
        }
      ]
    },
    {
      "cell_type": "markdown",
      "source": [
        "Now let's try with an out of scope question. We can see that the model will redirect flow to the \"coin\" node"
      ],
      "metadata": {
        "id": "mdMV65RoDIrr"
      }
    },
    {
      "cell_type": "code",
      "source": [
        "ans = graph.invoke({\"question\": \"There is high probability of rain tomorrow\"})\n",
        "print(f\"{ans['short_advice']}\")\n",
        "print(f\"Why? {ans['reasoning']}\")"
      ],
      "metadata": {
        "colab": {
          "base_uri": "https://localhost:8080/"
        },
        "id": "sR8reDfdDMgl",
        "outputId": "06322b16-a094-4a10-fe94-3a3e985d6e56"
      },
      "execution_count": 48,
      "outputs": [
        {
          "output_type": "stream",
          "name": "stdout",
          "text": [
            "I threw a coin, the result is tail so you have to study!\n",
            "STUDY!\n",
            "Why? The question about the probability of rain tomorrow does not relate to guitar playing or any of the specific actions like practicing, studying, or sleeping. It seems unrelated to the context of guitar playing, so it's unclear what action should be taken based on this information.\n"
          ]
        }
      ]
    },
    {
      "cell_type": "markdown",
      "source": [
        "And what if user is tired?"
      ],
      "metadata": {
        "id": "NdYArbyhGBfG"
      }
    },
    {
      "cell_type": "code",
      "source": [
        "ans = graph.invoke({\"question\": \"Yaaaawwn!\"})\n",
        "print(f\"{ans['short_advice']}\")\n",
        "print(f\"Why? {ans['reasoning']}\")"
      ],
      "metadata": {
        "colab": {
          "base_uri": "https://localhost:8080/"
        },
        "id": "ge2y7d3SGEyx",
        "outputId": "f1d229c9-ef58-4f0a-c0a4-580dcd361640"
      },
      "execution_count": 49,
      "outputs": [
        {
          "output_type": "stream",
          "name": "stdout",
          "text": [
            "TAKE A NAP!\n",
            "Why? The user is yawning, which is a common sign of tiredness or fatigue. This suggests that the player might need to rest.\n"
          ]
        }
      ]
    }
  ]
}