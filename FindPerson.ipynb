{
  "nbformat": 4,
  "nbformat_minor": 0,
  "metadata": {
    "colab": {
      "provenance": [],
      "include_colab_link": true
    },
    "kernelspec": {
      "name": "python3",
      "display_name": "Python 3"
    },
    "language_info": {
      "name": "python"
    }
  },
  "cells": [
    {
      "cell_type": "markdown",
      "metadata": {
        "id": "view-in-github",
        "colab_type": "text"
      },
      "source": [
        "<a href=\"https://colab.research.google.com/github/darkwings/ai-notebooks/blob/main/FindPerson.ipynb\" target=\"_parent\"><img src=\"https://colab.research.google.com/assets/colab-badge.svg\" alt=\"Open In Colab\"/></a>"
      ]
    },
    {
      "cell_type": "code",
      "execution_count": null,
      "metadata": {
        "id": "KPepAG3ujo_W"
      },
      "outputs": [],
      "source": [
        "%%capture --no-stderr\n",
        "%pip install --quiet -U langgraph langchain_openai langchain_community langchain_core"
      ]
    },
    {
      "cell_type": "code",
      "source": [
        "import os, getpass\n",
        "\n",
        "def _set_env(var: str):\n",
        "    if not os.environ.get(var):\n",
        "        os.environ[var] = getpass.getpass(f\"{var}: \")\n",
        "\n",
        "_set_env(\"OPENAI_API_KEY\")"
      ],
      "metadata": {
        "colab": {
          "base_uri": "https://localhost:8080/"
        },
        "id": "ulXYopD8j4Ar",
        "outputId": "25318cb5-5314-4fe1-83d0-f5cd7086e77a"
      },
      "execution_count": null,
      "outputs": [
        {
          "name": "stdout",
          "output_type": "stream",
          "text": [
            "OPENAI_API_KEY: ··········\n"
          ]
        }
      ]
    },
    {
      "cell_type": "markdown",
      "source": [
        "Imposto il tool per la decodifica del codice fiscale"
      ],
      "metadata": {
        "id": "ilmtnoqNj-5y"
      }
    },
    {
      "cell_type": "code",
      "source": [
        "from typing import Literal\n",
        "from typing_extensions import TypedDict\n",
        "\n",
        "class TaxCode(TypedDict):\n",
        "    first_name: str\n",
        "    last_name: str\n",
        "    birth_date: str\n",
        "    birth_city: str\n",
        "    sex: Literal['M', 'F']\n",
        "\n",
        "\n",
        "def decode_tax_code(tax_code: str) -> TaxCode:\n",
        "    \"\"\"Decodifica il codice fiscale italiano\n",
        "\n",
        "    Parametri di input:\n",
        "       tax_code: codice fiscale italiano da decodificare\n",
        "    \"\"\"\n",
        "\n",
        "    # FAKE, qui ci andrebbe la chiamata al tool di decodifica, per determinare\n",
        "    # sesso, luogo e data di nascita. Come esempio costruiamo un JSON fittizio\n",
        "    return {\"first_name\": \"FNC\", \"last_name\": \"TRR\", \"birth_date\": \"1990-01-01\", \"birth_city\": \"Pavia\", \"sex\": \"M\"}\n",
        "\n",
        "\n",
        "def verify_tax_code(first_name: str, last_name: str, tax_code: str) -> bool:\n",
        "    \"\"\"Verifica codice fiscale. Questa funzione controlla se il nome e cognome individuato\n",
        "    soddisfano il codice fiscale individuato nel testo\n",
        "\n",
        "    Parametri di input:\n",
        "       first_name: il nome individuato  nel testo\n",
        "       last_name: il cognome individuato nel testo\n",
        "       tax_code: codice fiscale individuato nel testo\n",
        "    \"\"\"\n",
        "\n",
        "    # Qui vanno implementate le solite regole di validazione del codice fiscale relativamente a nome e cognome\n",
        "    # Generato da AI per velocizzare...\n",
        "    def get_consonants(string):\n",
        "        return ''.join(c for c in string.upper() if c.isalpha() and c not in 'AEIOU')\n",
        "\n",
        "    def get_vowels(string):\n",
        "        return ''.join(c for c in string.upper() if c in 'AEIOU')\n",
        "\n",
        "    def get_name_code(string):\n",
        "        consonants = get_consonants(string)\n",
        "        vowels = get_vowels(string)\n",
        "\n",
        "        # If there are more than 3 consonants, take the first, third and fourth\n",
        "        if len(consonants) > 3:\n",
        "            return consonants[0] + consonants[2] + consonants[3]\n",
        "\n",
        "        # If there are exactly 3 consonants, use all of them\n",
        "        if len(consonants) == 3:\n",
        "            return consonants\n",
        "\n",
        "        # If there are less than 3 consonants, add necessary vowels\n",
        "        code = consonants + vowels\n",
        "\n",
        "        # If the string is still too short, add X\n",
        "        while len(code) < 3:\n",
        "            code += 'X'\n",
        "\n",
        "        return code[:3]\n",
        "\n",
        "    # Verify tax code length\n",
        "    if len(tax_code) != 16:\n",
        "        return False\n",
        "\n",
        "    # Extract name and surname parts from tax code\n",
        "    tax_code_lastname = tax_code[0:3].upper()\n",
        "    tax_code_firstname = tax_code[3:6].upper()\n",
        "\n",
        "    # Calculate expected codes for first name and last name\n",
        "    expected_lastname = get_name_code(last_name)\n",
        "    expected_firstname = get_name_code(first_name)\n",
        "\n",
        "    # Verify the match\n",
        "    return tax_code_lastname == expected_lastname and tax_code_firstname == expected_firstname"
      ],
      "metadata": {
        "id": "EJe8pl1skQOJ"
      },
      "execution_count": null,
      "outputs": []
    },
    {
      "cell_type": "markdown",
      "source": [
        "Avvio il chat model"
      ],
      "metadata": {
        "id": "ZpIb9n3Qljl1"
      }
    },
    {
      "cell_type": "code",
      "source": [
        "from langchain_openai import ChatOpenAI\n",
        "\n",
        "tools = [decode_tax_code, verify_tax_code]\n",
        "llm = ChatOpenAI(model=\"gpt-4o\")\n",
        "llm_with_tools = llm.bind_tools(tools, parallel_tool_calls=False)\n"
      ],
      "metadata": {
        "id": "jMJngl6Dll1U"
      },
      "execution_count": null,
      "outputs": []
    },
    {
      "cell_type": "code",
      "source": [
        "from langgraph.graph import MessagesState\n",
        "from langchain_core.messages import HumanMessage, SystemMessage\n",
        "\n",
        "\n",
        "content= \"\"\"Sei un assistente che deve aiutarmi ad individuare nel testo un nome e cognome di una persona\n",
        "e un codice fiscale nel formato italiano. Il codice fiscale potrebbe contenere degli spazi, in questo caso rimuovili.\n",
        "\n",
        "Se trovi il codice fiscale, devi chiamare il tool di decodifica del codice fiscale per recuperare data di nascita, luogo di nascita e sesso.\n",
        "\n",
        "Il codice fiscale va poi verificato con il tool di verifica del codice fiscale, in modo da capire se il nome e cognome\n",
        "individuato corrispondono al codice fiscale. Se la verifica fallisce emetti un warning.\n",
        "\n",
        "Formatta la risposta come json, omettendo il markdown, con le seguenti properties\n",
        "- first_name (con la prima lettera in maiuscolo)\n",
        "- last_name (utilizzando le lettere maiuscole ove serve)\n",
        "- tax_code (senza spazi)\n",
        "- birth_date\n",
        "- birth_city\n",
        "- gender\n",
        "- warning (opzionale)\n",
        "\"\"\"\n",
        "\n",
        "# System message\n",
        "sys_msg = SystemMessage(content)\n",
        "\n",
        "# Node\n",
        "def assistant(state: MessagesState):\n",
        "   return {\"messages\": [llm_with_tools.invoke([sys_msg] + state[\"messages\"])]}"
      ],
      "metadata": {
        "id": "4cvYsmKZmKev"
      },
      "execution_count": null,
      "outputs": []
    },
    {
      "cell_type": "markdown",
      "source": [
        "Ora il grafo\n",
        "\n",
        "Utilizziamo il checkpointer. L'utilizzo del checkpointer non è strettamente necessario per questo esempio ma serve per mostrare come accedere allo stato del grafo per un particolare **thread**.\n",
        "\n",
        "Nel contesto di langgraph **_un thread è un gruppo di checkpoint_**. Banalizzando al massimo, potremmo dire che è l'insieme dei messaggi scambiati fra utente e LLM, ma è molto di più.\n",
        "\n",
        "Lo stato del grafo può anche essere reso persistente, in modo da poter sopravvivere a riavvi dell'agent, o semplicemente per recuperare la conversazione in un momento successivo, ma va oltre gli obiettivi di questo esempio"
      ],
      "metadata": {
        "id": "uBhubi7AndZO"
      }
    },
    {
      "cell_type": "code",
      "source": [
        "from langgraph.graph import START, StateGraph\n",
        "from langgraph.prebuilt import tools_condition\n",
        "from langgraph.prebuilt import ToolNode\n",
        "from IPython.display import Image, display\n",
        "from langgraph.checkpoint.memory import MemorySaver\n",
        "\n",
        "builder = StateGraph(MessagesState)\n",
        "\n",
        "builder.add_node(\"assistant\", assistant)\n",
        "builder.add_node(\"tools\", ToolNode(tools))\n",
        "\n",
        "builder.add_edge(START, \"assistant\")\n",
        "builder.add_conditional_edges(\n",
        "    \"assistant\",\n",
        "    tools_condition,\n",
        ")\n",
        "builder.add_edge(\"tools\", \"assistant\")\n",
        "\n",
        "# Checkpointer\n",
        "memory = MemorySaver()\n",
        "react_graph = builder.compile(checkpointer=memory)\n",
        "\n",
        "# Show\n",
        "display(Image(react_graph.get_graph(xray=True).draw_mermaid_png()))"
      ],
      "metadata": {
        "colab": {
          "base_uri": "https://localhost:8080/",
          "height": 266
        },
        "id": "tL2KzKVynfo7",
        "outputId": "377520ca-0c0d-4434-a843-7bb9fc02de78"
      },
      "execution_count": null,
      "outputs": [
        {
          "output_type": "display_data",
          "data": {
            "image/png": "[encoded data removed]",
            "text/plain": [
              "<IPython.core.display.Image object>"
            ]
          },
          "metadata": {}
        }
      ]
    },
    {
      "cell_type": "code",
      "source": [
        "# Oggetto RunnableConfig, necessario per eseguire il grafo\n",
        "# dato che abbiamo configurato il checkpointer\n",
        "config = {\"configurable\": {\"thread_id\": \"1\"}}\n",
        "\n",
        "messages = [HumanMessage(content=\"Reclamo presentato da un certo de marinis, nome (se non ho capito male) silvano. Il codice fiscale comunicato è DMR SVN 80A01 G388M\")]\n",
        "messages = react_graph.invoke({\"messages\": messages}, config)"
      ],
      "metadata": {
        "id": "WgqsvLUAn9vv"
      },
      "execution_count": null,
      "outputs": []
    },
    {
      "cell_type": "markdown",
      "source": [
        "Passiamo ora all'output. Con il frammento di codice seguente, mostriamo tutti i messaggi"
      ],
      "metadata": {
        "id": "sSu_PQMdN1Vt"
      }
    },
    {
      "cell_type": "code",
      "source": [
        "for m in messages['messages']:\n",
        "    m.pretty_print()"
      ],
      "metadata": {
        "colab": {
          "base_uri": "https://localhost:8080/"
        },
        "id": "43OSEMlQoUTr",
        "outputId": "ed483675-9582-402b-b467-06fb4fa1f77a"
      },
      "execution_count": null,
      "outputs": [
        {
          "output_type": "stream",
          "name": "stdout",
          "text": [
            "================================\u001b[1m Human Message \u001b[0m=================================\n",
            "\n",
            "Reclamo presentato da un certo de marinis, nome (se non ho capito male) silvano. Il codice fiscale comunicato è DMR SVN 80A01 G388M\n",
            "==================================\u001b[1m Ai Message \u001b[0m==================================\n",
            "Tool Calls:\n",
            "  decode_tax_code (call_3y096KTlG9ph5Cn2uy9iZ9T0)\n",
            " Call ID: call_3y096KTlG9ph5Cn2uy9iZ9T0\n",
            "  Args:\n",
            "    tax_code: DMRSVN80A01G388M\n",
            "=================================\u001b[1m Tool Message \u001b[0m=================================\n",
            "Name: decode_tax_code\n",
            "\n",
            "{\"first_name\": \"FNC\", \"last_name\": \"TRR\", \"birth_date\": \"1990-01-01\", \"birth_city\": \"Pavia\", \"sex\": \"M\"}\n",
            "==================================\u001b[1m Ai Message \u001b[0m==================================\n",
            "Tool Calls:\n",
            "  verify_tax_code (call_0oXmslVex4bKIFcUawVCnRrv)\n",
            " Call ID: call_0oXmslVex4bKIFcUawVCnRrv\n",
            "  Args:\n",
            "    first_name: Silvano\n",
            "    last_name: De Marinis\n",
            "    tax_code: DMRSVN80A01G388M\n",
            "=================================\u001b[1m Tool Message \u001b[0m=================================\n",
            "Name: verify_tax_code\n",
            "\n",
            "false\n",
            "==================================\u001b[1m Ai Message \u001b[0m==================================\n",
            "\n",
            "{\"first_name\":\"Silvano\",\"last_name\":\"De Marinis\",\"tax_code\":\"DMRSVN80A01G388M\",\"birth_date\":\"1990-01-01\",\"birth_city\":\"Pavia\",\"gender\":\"M\",\"warning\":\"Il codice fiscale fornito non corrisponde al nome e cognome indicati.\"}\n"
          ]
        }
      ]
    },
    {
      "cell_type": "markdown",
      "source": [
        "Così prendiamo solo l'ultimo messaggio, un JSON che può essere restituito al chiamante"
      ],
      "metadata": {
        "id": "WTtZHTonOCcv"
      }
    },
    {
      "cell_type": "code",
      "source": [
        "# last element of messages\n",
        "messages['messages'][-1].content"
      ],
      "metadata": {
        "colab": {
          "base_uri": "https://localhost:8080/",
          "height": 52
        },
        "id": "U54Wxbh_LgzE",
        "outputId": "2b2268e0-e762-42ee-835e-fe2ce0564555"
      },
      "execution_count": null,
      "outputs": [
        {
          "output_type": "execute_result",
          "data": {
            "text/plain": [
              "'{\"first_name\":\"Silvano\",\"last_name\":\"De Marinis\",\"tax_code\":\"DMRSVN80A01G388M\",\"birth_date\":\"1990-01-01\",\"birth_city\":\"Pavia\",\"gender\":\"M\",\"warning\":\"Il codice fiscale fornito non corrisponde al nome e cognome indicati.\"}'"
            ],
            "application/vnd.google.colaboratory.intrinsic+json": {
              "type": "string"
            }
          },
          "metadata": {},
          "execution_count": 32
        }
      ]
    },
    {
      "cell_type": "markdown",
      "source": [
        "In alternativa, possiamo accedere allo stato del grafo per un particolare thread."
      ],
      "metadata": {
        "id": "_y3kswTfOGao"
      }
    },
    {
      "cell_type": "code",
      "source": [
        "# per eseguire il grafo in modo trasparente, possiamo chiamare direttamente react_graph.invoke\n",
        "# e poi accedere allo stato del grafo\n",
        "# config = {\"configurable\": {\"thread_id\": \"1\"}}\n",
        "# react_graph.invoke({\"messages\": messages}, config)\n",
        "state = react_graph.get_state(config)\n",
        "\n",
        "# Scriviamo lo stato in console giusto per mostrare lo snapshot completo.\n",
        "# Lo snapshot contiene molte informazioni, oltre ai messaggi, tra le quali\n",
        "# - checkpoint\n",
        "# - numero di token utilizzati\n",
        "state"
      ],
      "metadata": {
        "colab": {
          "base_uri": "https://localhost:8080/"
        },
        "id": "_sJh9kfaOJ02",
        "outputId": "bc162d45-83e5-410b-ab51-ef39b8f41372"
      },
      "execution_count": null,
      "outputs": [
        {
          "output_type": "execute_result",
          "data": {
            "text/plain": [
              "StateSnapshot(values={'messages': [HumanMessage(content='Reclamo presentato da un certo de marinis, nome (se non ho capito male) silvano. Il codice fiscale comunicato è DMR SVN 80A01 G388M', additional_kwargs={}, response_metadata={}, id='3334f095-9090-4672-8385-8eb12b84e49e'), AIMessage(content='', additional_kwargs={'tool_calls': [{'id': 'call_3y096KTlG9ph5Cn2uy9iZ9T0', 'function': {'arguments': '{\"tax_code\":\"DMRSVN80A01G388M\"}', 'name': 'decode_tax_code'}, 'type': 'function'}], 'refusal': None}, response_metadata={'token_usage': {'completion_tokens': 25, 'prompt_tokens': 402, 'total_tokens': 427, 'completion_tokens_details': {'accepted_prediction_tokens': 0, 'audio_tokens': 0, 'reasoning_tokens': 0, 'rejected_prediction_tokens': 0}, 'prompt_tokens_details': {'audio_tokens': 0, 'cached_tokens': 0}}, 'model_name': 'gpt-4o-2024-08-06', 'system_fingerprint': 'fp_5f20662549', 'finish_reason': 'tool_calls', 'logprobs': None}, id='run-cdb08659-0493-48e5-aae9-f69f78e497fb-0', tool_calls=[{'name': 'decode_tax_code', 'args': {'tax_code': 'DMRSVN80A01G388M'}, 'id': 'call_3y096KTlG9ph5Cn2uy9iZ9T0', 'type': 'tool_call'}], usage_metadata={'input_tokens': 402, 'output_tokens': 25, 'total_tokens': 427, 'input_token_details': {'audio': 0, 'cache_read': 0}, 'output_token_details': {'audio': 0, 'reasoning': 0}}), ToolMessage(content='{\"first_name\": \"FNC\", \"last_name\": \"TRR\", \"birth_date\": \"1990-01-01\", \"birth_city\": \"Pavia\", \"sex\": \"M\"}', name='decode_tax_code', id='c2e1d045-944c-4201-b0bd-4ea1398e5c2b', tool_call_id='call_3y096KTlG9ph5Cn2uy9iZ9T0'), AIMessage(content='', additional_kwargs={'tool_calls': [{'id': 'call_0oXmslVex4bKIFcUawVCnRrv', 'function': {'arguments': '{\"first_name\":\"Silvano\",\"last_name\":\"De Marinis\",\"tax_code\":\"DMRSVN80A01G388M\"}', 'name': 'verify_tax_code'}, 'type': 'function'}], 'refusal': None}, response_metadata={'token_usage': {'completion_tokens': 38, 'prompt_tokens': 477, 'total_tokens': 515, 'completion_tokens_details': {'accepted_prediction_tokens': 0, 'audio_tokens': 0, 'reasoning_tokens': 0, 'rejected_prediction_tokens': 0}, 'prompt_tokens_details': {'audio_tokens': 0, 'cached_tokens': 0}}, 'model_name': 'gpt-4o-2024-08-06', 'system_fingerprint': 'fp_5f20662549', 'finish_reason': 'tool_calls', 'logprobs': None}, id='run-b88e606f-f2d0-45b5-b17a-984ca9e712ca-0', tool_calls=[{'name': 'verify_tax_code', 'args': {'first_name': 'Silvano', 'last_name': 'De Marinis', 'tax_code': 'DMRSVN80A01G388M'}, 'id': 'call_0oXmslVex4bKIFcUawVCnRrv', 'type': 'tool_call'}], usage_metadata={'input_tokens': 477, 'output_tokens': 38, 'total_tokens': 515, 'input_token_details': {'audio': 0, 'cache_read': 0}, 'output_token_details': {'audio': 0, 'reasoning': 0}}), ToolMessage(content='false', name='verify_tax_code', id='82e11bf4-7e47-4069-95e6-814fa51710de', tool_call_id='call_0oXmslVex4bKIFcUawVCnRrv'), AIMessage(content='{\"first_name\":\"Silvano\",\"last_name\":\"De Marinis\",\"tax_code\":\"DMRSVN80A01G388M\",\"birth_date\":\"1990-01-01\",\"birth_city\":\"Pavia\",\"gender\":\"M\",\"warning\":\"Il codice fiscale fornito non corrisponde al nome e cognome indicati.\"}', additional_kwargs={'refusal': None}, response_metadata={'token_usage': {'completion_tokens': 69, 'prompt_tokens': 524, 'total_tokens': 593, 'completion_tokens_details': {'accepted_prediction_tokens': 0, 'audio_tokens': 0, 'reasoning_tokens': 0, 'rejected_prediction_tokens': 0}, 'prompt_tokens_details': {'audio_tokens': 0, 'cached_tokens': 0}}, 'model_name': 'gpt-4o-2024-08-06', 'system_fingerprint': 'fp_5f20662549', 'finish_reason': 'stop', 'logprobs': None}, id='run-6a26bc9e-32fd-4b05-83c3-81c40b8da22c-0', usage_metadata={'input_tokens': 524, 'output_tokens': 69, 'total_tokens': 593, 'input_token_details': {'audio': 0, 'cache_read': 0}, 'output_token_details': {'audio': 0, 'reasoning': 0}})]}, next=(), config={'configurable': {'thread_id': '1', 'checkpoint_ns': '', 'checkpoint_id': '1efbfbef-67c4-6933-8005-5d7fc1741b3c'}}, metadata={'source': 'loop', 'writes': {'assistant': {'messages': [AIMessage(content='{\"first_name\":\"Silvano\",\"last_name\":\"De Marinis\",\"tax_code\":\"DMRSVN80A01G388M\",\"birth_date\":\"1990-01-01\",\"birth_city\":\"Pavia\",\"gender\":\"M\",\"warning\":\"Il codice fiscale fornito non corrisponde al nome e cognome indicati.\"}', additional_kwargs={'refusal': None}, response_metadata={'token_usage': {'completion_tokens': 69, 'prompt_tokens': 524, 'total_tokens': 593, 'completion_tokens_details': {'accepted_prediction_tokens': 0, 'audio_tokens': 0, 'reasoning_tokens': 0, 'rejected_prediction_tokens': 0}, 'prompt_tokens_details': {'audio_tokens': 0, 'cached_tokens': 0}}, 'model_name': 'gpt-4o-2024-08-06', 'system_fingerprint': 'fp_5f20662549', 'finish_reason': 'stop', 'logprobs': None}, id='run-6a26bc9e-32fd-4b05-83c3-81c40b8da22c-0', usage_metadata={'input_tokens': 524, 'output_tokens': 69, 'total_tokens': 593, 'input_token_details': {'audio': 0, 'cache_read': 0}, 'output_token_details': {'audio': 0, 'reasoning': 0}})]}}, 'thread_id': '1', 'step': 5, 'parents': {}}, created_at='2024-12-21T17:13:57.180615+00:00', parent_config={'configurable': {'thread_id': '1', 'checkpoint_ns': '', 'checkpoint_id': '1efbfbef-5d67-6dc6-8004-ad721eba0c69'}}, tasks=())"
            ]
          },
          "metadata": {},
          "execution_count": 33
        }
      ]
    },
    {
      "cell_type": "markdown",
      "source": [
        "Avendo a disposizione lo stato del grafo, possiamo accedere a qualsiasi elemento in esso contenuto. Il seguente frammento considera l'ultimo messaggio, mostrando il suo contenuto."
      ],
      "metadata": {
        "id": "Tk-Drx_hOh8e"
      }
    },
    {
      "cell_type": "code",
      "source": [
        "# last element of messages list\n",
        "state.values['messages'][-1].content"
      ],
      "metadata": {
        "colab": {
          "base_uri": "https://localhost:8080/",
          "height": 52
        },
        "id": "7LaLoi2DOn1z",
        "outputId": "e5c29c54-5c9c-4701-e792-c56e5c05db37"
      },
      "execution_count": null,
      "outputs": [
        {
          "output_type": "execute_result",
          "data": {
            "text/plain": [
              "'{\"first_name\":\"Silvano\",\"last_name\":\"De Marinis\",\"tax_code\":\"DMRSVN80A01G388M\",\"birth_date\":\"1990-01-01\",\"birth_city\":\"Pavia\",\"gender\":\"M\",\"warning\":\"Il codice fiscale fornito non corrisponde al nome e cognome indicati.\"}'"
            ],
            "application/vnd.google.colaboratory.intrinsic+json": {
              "type": "string"
            }
          },
          "metadata": {},
          "execution_count": 38
        }
      ]
    }
  ]
}