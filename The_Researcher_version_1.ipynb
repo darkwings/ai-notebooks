{
  "nbformat": 4,
  "nbformat_minor": 0,
  "metadata": {
    "colab": {
      "provenance": [],
      "authorship_tag": "ABX9TyNkPazwMHj+ArM/RpjrFGPi",
      "include_colab_link": true
    },
    "kernelspec": {
      "name": "python3",
      "display_name": "Python 3"
    },
    "language_info": {
      "name": "python"
    }
  },
  "cells": [
    {
      "cell_type": "markdown",
      "metadata": {
        "id": "view-in-github",
        "colab_type": "text"
      },
      "source": [
        "<a href=\"https://colab.research.google.com/github/darkwings/ai-notebooks/blob/main/The_Researcher_version_1.ipynb\" target=\"_parent\"><img src=\"https://colab.research.google.com/assets/colab-badge.svg\" alt=\"Open In Colab\"/></a>"
      ]
    },
    {
      "cell_type": "markdown",
      "source": [
        "# The Researcher (version 1)\n",
        "\n",
        "This notebook implements a simple search workflow targeted to the composition of an *essay* about a specific topic, with critique functionalities to drive the review of the essay.\n",
        "\n",
        "This is the first version, based on web search performed by Tavily.\n",
        "\n",
        "## What's next\n",
        "\n",
        "Next versions of the researcher will include\n",
        "\n",
        "- parallel search and aggregation of results\n",
        "- access to local documents with Vector Store (Self RAG)\n",
        "\n",
        "\n",
        "## Let's do it\n",
        "\n",
        "The implementation is based on [LangGraph](https://www.langchain.com/langgraph)\n",
        "\n",
        "Let's start with the setup"
      ],
      "metadata": {
        "id": "zPdShzJsshLQ"
      }
    },
    {
      "cell_type": "code",
      "source": [
        "%%capture --no-stderr\n",
        "%pip install --quiet -U langchain_openai langchain_core langchain_community langgraph tavily-python"
      ],
      "metadata": {
        "id": "0nWqaIh5toot"
      },
      "execution_count": 1,
      "outputs": []
    },
    {
      "cell_type": "code",
      "source": [
        "import os, getpass\n",
        "\n",
        "def _set_env(var: str):\n",
        "    if not os.environ.get(var):\n",
        "        os.environ[var] = getpass.getpass(f\"{var}: \")\n",
        "\n",
        "_set_env(\"OPENAI_API_KEY\")"
      ],
      "metadata": {
        "colab": {
          "base_uri": "https://localhost:8080/"
        },
        "id": "kx9Rnk0atpMM",
        "outputId": "ac1e475e-26f9-4cc0-bb48-21bcbe8adb42"
      },
      "execution_count": 2,
      "outputs": [
        {
          "name": "stdout",
          "output_type": "stream",
          "text": [
            "OPENAI_API_KEY: ··········\n"
          ]
        }
      ]
    },
    {
      "cell_type": "code",
      "source": [
        "_set_env(\"TAVILY_API_KEY\")"
      ],
      "metadata": {
        "colab": {
          "base_uri": "https://localhost:8080/"
        },
        "id": "bgJotxEXtqtv",
        "outputId": "568971a6-3a6c-447c-88b3-e34e79a026d0"
      },
      "execution_count": 3,
      "outputs": [
        {
          "name": "stdout",
          "output_type": "stream",
          "text": [
            "TAVILY_API_KEY: ··········\n"
          ]
        }
      ]
    },
    {
      "cell_type": "markdown",
      "source": [
        "Now, let's import all the needed stuff and declare\n",
        "\n",
        "- the main [state](https://medium.com/@gitmaxd/understanding-state-in-langgraph-a-comprehensive-guide-191462220997) of the Graph\n",
        "- some objects that we're going to use as [structured output](https://python.langchain.com/docs/concepts/structured_outputs/)"
      ],
      "metadata": {
        "id": "p6MF4H4nvlbo"
      }
    },
    {
      "cell_type": "code",
      "source": [
        "from typing import TypedDict, List, Optional, Any\n",
        "import asyncio\n",
        "from langchain_openai import ChatOpenAI\n",
        "import operator\n",
        "from pydantic import BaseModel, Field\n",
        "from typing import Annotated\n",
        "from langgraph.graph import MessagesState\n",
        "from langchain_community.tools.tavily_search import TavilySearchResults\n",
        "from langchain_core.messages import AIMessage, HumanMessage, SystemMessage\n",
        "from langgraph.graph import START, END, StateGraph\n",
        "from langgraph.checkpoint.memory import MemorySaver\n",
        "from IPython.display import Image, display\n",
        "from tavily import AsyncTavilyClient\n",
        "from langchain_core.runnables import RunnableConfig\n",
        "from dataclasses import dataclass, fields, field\n",
        "\n",
        "class InputState(TypedDict):\n",
        "  topic: str\n",
        "  desired_language: str\n",
        "  user_notes: str\n",
        "  max_revisions: int\n",
        "\n",
        "class OutputState(TypedDict):\n",
        "  draft: str\n",
        "\n",
        "@dataclass(kw_only=True)\n",
        "class AgentState:\n",
        "  # the topic of the essay\n",
        "  topic: str\n",
        "\n",
        "  #the plan\n",
        "  plan: str = field(default=None)\n",
        "\n",
        "  # user notes\n",
        "  user_notes: str = field(default=None)\n",
        "\n",
        "  # the content written by the compose agent\n",
        "  draft: str = field(default=None)\n",
        "\n",
        "  # the desired language\n",
        "  desired_language: str = field(default=\"italian\")\n",
        "\n",
        "  # the critique moved by reflection step\n",
        "  critique: str = field(default=None)\n",
        "\n",
        "  # the body of collected documents\n",
        "  content: Annotated[List[str], operator.add] = field(default_factory=list)\n",
        "\n",
        "  # the iteration\n",
        "  revision_number: int = field(default=0)\n",
        "\n",
        "  # the max number of iterations\n",
        "  max_revisions: int = field(default=2)\n",
        "\n",
        "\n",
        "# STRUCTURED OUTPUTS\n",
        "class Plan(BaseModel):\n",
        "  actions: List[str]\n",
        "\n",
        "class Queries(BaseModel):\n",
        "  queries: List[str]\n",
        "\n",
        "# Configuration\n",
        "@dataclass(kw_only=True)\n",
        "class Configuration:\n",
        "    \"\"\"The configurable fields for the chatbot.\"\"\"\n",
        "\n",
        "    max_action_plan: int = 5\n",
        "    max_search_queries: int = 5  # Max search queries\n",
        "    max_search_results: int = 2  # Max search results per query\n",
        "    max_revisions: int = 2  # Max reflection steps\n",
        "    max_paragraphs: int = 10\n",
        "\n",
        "    @classmethod\n",
        "    def from_runnable_config(\n",
        "        cls, config: Optional[RunnableConfig] = None\n",
        "    ) -> \"Configuration\":\n",
        "        \"\"\"Create a Configuration instance from a RunnableConfig.\"\"\"\n",
        "        configurable = (\n",
        "            config[\"configurable\"] if config and \"configurable\" in config else {}\n",
        "        )\n",
        "        values: dict[str, Any] = {\n",
        "            f.name: os.environ.get(f.name.upper(), configurable.get(f.name))\n",
        "            for f in fields(cls)\n",
        "            if f.init\n",
        "        }\n",
        "        return cls(**{k: v for k, v in values.items() if v})"
      ],
      "metadata": {
        "id": "pxCe4hkBvqmL"
      },
      "execution_count": 10,
      "outputs": []
    },
    {
      "cell_type": "markdown",
      "source": [
        "## Nodes\n",
        "\n",
        "Now, let's define the nodes"
      ],
      "metadata": {
        "id": "NgFF9o9ryVJK"
      }
    },
    {
      "cell_type": "code",
      "source": [
        "llm = ChatOpenAI(model=\"gpt-4o\")\n",
        "tavily_search = TavilySearchResults(max_results=2)"
      ],
      "metadata": {
        "id": "yvC4aN7FzHes"
      },
      "execution_count": 6,
      "outputs": []
    },
    {
      "cell_type": "code",
      "source": [
        "# PLAN SEARCH NODE\n",
        "def generate_plan(state: AgentState, config: RunnableConfig):\n",
        "  configurable = Configuration.from_runnable_config(config)\n",
        "  state.max_revisions = configurable.max_revisions\n",
        "  max_action_plan = configurable.max_action_plan\n",
        "\n",
        "  system_prompt = \"\"\"\n",
        "  You're a helpful assistant that can determine, starting from a topic described with simple words,\n",
        "  a full plan that can be used to reason about the given topic. If you don't know\n",
        "  anything about the topic, please create a plan that will give you all\n",
        "  the needed kwowledge about the topic.\n",
        "\n",
        "  The plan should be composed by a sequence of maximum {max_action_plan} actions.\n",
        "  \"\"\"\n",
        "  messages = [\n",
        "      SystemMessage(content=system_prompt.format(max_action_plan=max_action_plan)),\n",
        "      HumanMessage(content=f\"Generate a plan to generate an essay about the following topic: {state.topic}\")\n",
        "  ]\n",
        "  plan = llm.with_structured_output(Plan).invoke(messages)\n",
        "  return {\"plan\": plan.actions}\n",
        "\n",
        "\n",
        "# RESEARCH NODE\n",
        "def search_web(state: AgentState, config: RunnableConfig):\n",
        "  configurable = Configuration.from_runnable_config(config)\n",
        "  max_search_queries = configurable.max_search_queries\n",
        "\n",
        "  system_prompt = \"\"\"\n",
        "  You are a researcher that is in charge, given a plan, to provide meaningful information to write an essay.\n",
        "  Given a plan, you're in charge to produce meaningful search queries that can be\n",
        "  used to search the web in order to gather meaningful informations.\n",
        "\n",
        "  The plan is the following:\n",
        "  {plan}\n",
        "  \"\"\"\n",
        "\n",
        "  plan = \"\\n\\n\".join(state.plan)\n",
        "  queries = llm.with_structured_output(Queries).invoke(\n",
        "      [SystemMessage(content=system_prompt.format(plan=plan)),\n",
        "       HumanMessage(content=f\"Generate {max_search_queries} search queries based on the plan.\")]\n",
        "  )\n",
        "  content = state.content or []\n",
        "  for q in queries.queries:\n",
        "    documents = tavily_search.invoke({\"query\": q})\n",
        "    for doc in documents:\n",
        "      content.append(f'<Document href=\"{doc[\"url\"]}\"/>\\n{doc[\"content\"]}\\n</Document>')\n",
        "  return {\"content\": content}\n",
        "\n",
        "\n",
        "# GENERATE ESSAY NODE\n",
        "def generate_essay(state: AgentState, config: RunnableConfig):\n",
        "  configurable = Configuration.from_runnable_config(config)\n",
        "  max_paragraphs = configurable.max_paragraphs\n",
        "\n",
        "  system_prompt = \"\"\"\n",
        "  You're an expert in writing an essay of {max_paragraphs} paragraph given the provided\n",
        "  information. Try to adhere to the target topic and the provided plan. Your\n",
        "  output should be captivating and should be understandable by non expert people,\n",
        "  so try to use the simplest words possible to keep the essay understandable.\n",
        "\n",
        "  Your output should be in markdown format, it must have a captivating titles\n",
        "  and each paragraph should have a meaningful header outlining the content of\n",
        "  the paragraph itself.\n",
        "\n",
        "  Important: the essay should be written in the following language: {desired_language}\n",
        "\n",
        "  This is the content to use for the essay. It is expressed as XML tag, with\n",
        "  the document tag containing the URL. Add a final section in the essay adding the\n",
        "  url of the documents used to generate the essay.\n",
        "\n",
        "  {content}\n",
        "  \"\"\"\n",
        "  content = \"\\n\\n\".join(state.content or [])\n",
        "  messages = [\n",
        "      SystemMessage(content=system_prompt.format(max_paragraphs=max_paragraphs,\n",
        "                                                 desired_language=state.desired_language, content=content)),\n",
        "      HumanMessage(content=f\"This is the topic of the essay: {state.topic}\")\n",
        "  ]\n",
        "  draft = llm.invoke(messages)\n",
        "  return {\"draft\": draft.content, \"revision_number\": state.revision_number + 1}\n",
        "\n",
        "\n",
        "# REFLECTION NODE\n",
        "def perform_review(state: AgentState, config: RunnableConfig):\n",
        "  system_prompt = \"\"\"\n",
        "  You're a helpful reviewer in order to understand if the provided draft is consistent\n",
        "  with the given plan and the topic.\n",
        "  Moreover, you should check user notes and see if the draft respects the given notes\n",
        "\n",
        "  The outcome of your analysis should be a critique that can be used to improve the draft\n",
        "  and further search the web to improve sources.\n",
        "\n",
        "  If the draft is ok and respects user notes, just output the word \"OK\",\n",
        "  that means there are no critiques.\n",
        "\n",
        "  -------\n",
        "\n",
        "  This is the initial topic: {topic}\n",
        "\n",
        "  This is the plan: {plan}\n",
        "\n",
        "  These are user notes: {user_notes}\n",
        "\n",
        "  This is the draft of the essay:\n",
        "  {draft}\n",
        "  \"\"\"\n",
        "\n",
        "  critique = llm.invoke([SystemMessage(content=system_prompt.format(topic=state.topic, plan=state.plan, draft=state.draft, user_notes=state.user_notes))])\n",
        "  return {\"critique\": critique.content}\n",
        "\n",
        "\n",
        "# CRITIQUE NODE\n",
        "def review_followup(state: AgentState, config: RunnableConfig):\n",
        "  configurable = Configuration.from_runnable_config(config)\n",
        "  max_search_queries = configurable.max_search_queries\n",
        "\n",
        "  system_prompt = \"\"\"\n",
        "  You're a smart reviewer and you're able to generare a search query to\n",
        "  satisfy a critique that is proposed about the given draft.\n",
        "\n",
        "  This is the draft of the essay:\n",
        "  {draft}\n",
        "  \"\"\"\n",
        "\n",
        "  messages = [\n",
        "      SystemMessage(content=system_prompt.format(draft=state.draft)),\n",
        "      HumanMessage(content=f\"Generate {max_search_queries} search queries based on the following critique: {state.critique}\")\n",
        "  ]\n",
        "  queries = llm.with_structured_output(Queries).invoke(messages)\n",
        "  content = state.content or []\n",
        "  for q in queries.queries:\n",
        "    documents = tavily_search.invoke(q)\n",
        "    for doc in documents:\n",
        "      content.append(f'<Document href=\"{doc[\"url\"]}\"/>\\n{doc[\"content\"]}\\n</Document>')\n",
        "  return {\"content\": content}\n",
        "\n",
        "\n",
        "# LOOPER\n",
        "def should_continue(state: AgentState):\n",
        "  if state.critique == \"OK\":\n",
        "    return END\n",
        "  if state.revision_number > state.max_revisions:\n",
        "    return END\n",
        "  return \"perform_review\""
      ],
      "metadata": {
        "id": "beeJIQVsydJu"
      },
      "execution_count": 11,
      "outputs": []
    },
    {
      "cell_type": "markdown",
      "source": [
        "Now we can compose the graph\n"
      ],
      "metadata": {
        "id": "sy5GkuHN8aNM"
      }
    },
    {
      "cell_type": "code",
      "source": [
        "builder = StateGraph(AgentState, input=InputState, output=OutputState)\n",
        "\n",
        "builder.add_node(\"generate_plan\", generate_plan)\n",
        "builder.add_node(\"search_web\", search_web)\n",
        "builder.add_node(\"generate_essay\", generate_essay)\n",
        "builder.add_node(\"perform_review\", perform_review)\n",
        "builder.add_node(\"review_followup\", review_followup)\n",
        "\n",
        "\n",
        "builder.add_edge(START, \"generate_plan\")\n",
        "builder.add_conditional_edges(\"generate_essay\",\n",
        "                              should_continue,\n",
        "                              {END: END, \"perform_review\": \"perform_review\"})\n",
        "builder.add_edge(\"generate_plan\", \"search_web\")\n",
        "builder.add_edge(\"search_web\", \"generate_essay\")\n",
        "builder.add_edge(\"perform_review\", \"review_followup\")\n",
        "builder.add_edge(\"review_followup\", \"generate_essay\")\n",
        "\n",
        "memory = MemorySaver()\n",
        "\n",
        "graph = builder.compile(checkpointer=memory)\n",
        "\n",
        "# Show\n",
        "display(Image(graph.get_graph(xray=True).draw_mermaid_png()))"
      ],
      "metadata": {
        "colab": {
          "base_uri": "https://localhost:8080/",
          "height": 563
        },
        "id": "SIXshoST8u3l",
        "outputId": "cbc024b3-50cf-476b-fb9c-94304cd7c692"
      },
      "execution_count": 12,
      "outputs": [
        {
          "output_type": "display_data",
          "data": {
            "image/png": "[encoded data removed]",
            "text/plain": [
              "<IPython.core.display.Image object>"
            ]
          },
          "metadata": {}
        }
      ]
    },
    {
      "cell_type": "markdown",
      "source": [
        "As we can see, the first version of the Researcher is very basic. It always performs 3 round of critique and does not allow parallel research. Moreover, it relies only on web documents.\n",
        "\n",
        "We will address those issues in the next versions.\n",
        "\n",
        "## Test\n",
        "\n",
        "Ora passiamo al test del grafo"
      ],
      "metadata": {
        "id": "NAf06NOn-gRc"
      }
    },
    {
      "cell_type": "code",
      "source": [
        "from IPython.display import Markdown\n",
        "\n",
        "state = InputState(topic=\"pickup della chitarra elettrica\",\n",
        "                   user_notes=\"Il report deve essere semplice da leggere anche per chi non capisce nulla di chitarre\",\n",
        "                   max_revisions=2,\n",
        "                   desired_language=\"italian\")\n",
        "\n",
        "configurable = {\"configurable\": {\"thread_id\": \"1\"}}\n",
        "\n",
        "graph.invoke(input=state, config=configurable)\n",
        "\n",
        "result = graph.get_state(configurable)\n",
        "\n",
        "# print(result)\n",
        "\n",
        "# result is a tuple\n",
        "Markdown(result.values[\"draft\"])\n",
        "\n"
      ],
      "metadata": {
        "colab": {
          "base_uri": "https://localhost:8080/",
          "height": 1000
        },
        "id": "6FwWlxCD-jdU",
        "outputId": "ae567448-644a-413c-e525-e1cd349001e3"
      },
      "execution_count": 13,
      "outputs": [
        {
          "output_type": "execute_result",
          "data": {
            "text/plain": [
              "<IPython.core.display.Markdown object>"
            ],
            "text/markdown": "# L'universo dei pickup della chitarra elettrica: Uno sguardo approfondito\n\n## Che cos'è un pickup?\n\nI pickup delle chitarre elettriche sono componenti essenziali che trasformano le vibrazioni delle corde in segnali elettrici. Questi segnali vengono poi amplificati per produrre il suono che ascoltiamo da un altoparlante. Alla base del funzionamento dei pickup c'è il principio dell'induzione elettromagnetica: una combinazione di un magnete e una bobina di filo che interagiscono con le corde della chitarra per generare un segnale [StayTunedGuitar](https://staytunedguitar.com/guitar-pickup-anatomy).\n\n## Componenti di un pickup\n\nUn pickup per chitarra elettrica è composto da tre componenti principali: un magnete, una bobina di filo e una struttura che li metta in relazione tra loro. Quando le corde della chitarra vibrano, disturbano il campo magnetico prodotto dal magnete. Questo disturbo viene catturato dalla bobina, che trasforma l'energia magnetica in un segnale elettrico [Tonepedia](https://www.tonepedia.com/electric-guitar-pickups/).\n\n## Storia e varietà dei pickup\n\nLa storia dei pickup per chitarra elettrica è ricca di innovazioni. I primi pickup monotelo sono stati introdotti da Fender sulla Telecaster e sono noti per i loro toni brillanti e nitidi. Gibson ha risposto con i pickup P-90 e successivamente con gli humbucker, progettati per risolvere i problemi di rumore delle prime versioni [StayTunedGuitar](https://staytunedguitar.com/history-of-guitar-pickups).\n\n## Differenze tra single-coil e humbucker\n\nI pickup single-coil e humbucker sono i due tipi principali di pickup, ciascuno con un design unico che influenza il tono e le prestazioni. I single-coil producono un suono brillante e chiaro, mentre gli humbucker danno un suono più caldo e potente. Gli humbucker, infatti, sono essenzialmente due pickup single-coil uniti insieme, riducendo al minimo le interferenze esterne [GuitarSpace](https://guitarspace.org/electric-guitars/humbucker-vs-single-coil/).\n\n## L'influenza del posizionamento e della resistenza\n\nIl posizionamento del pickup sulla chitarra influisce significativamente sul tono prodotto. Pickup vicini al ponte tendono a offrire un suono più acuto e ricco di alti, mentre quelli vicino al manico producono un tono più profondo e ricco di bassi. Inoltre, la resistenza del pickup, che varia da modelli vintage a moderni, può plasmarne la qualità tonale [GodDamnelectrix](https://goddamnelectrix.com/humbucker-pickup-resistance/).\n\n## L'evoluzione dei pickup\n\nNel corso degli anni, i pickup per chitarra elettrica hanno visto molte innovazioni tecnologiche. Dai design classici degli anni '50 fino ai pickup attivi degli anni '80 introdotti da EMG, che utilizzano elettronica interna per migliorare il tono e l'output, il ruolo dei pickup nella musica moderna non può essere sottovalutato [GodDamnelectrix](https://goddamnelectrix.com/single-coil-pickup-history/).\n\n## Impatto sul tono della chitarra\n\nI pickup hanno un impatto importante sul tono della chitarra. Infatti, molti chitarristi con il tempo finiscono per sperimentare con diversi tipi di pickup per trovare il suono che più si addice al loro stile musicale. La scelta dei potenziometri e dei condensatori nella circuiteria della chitarra può ulteriormente influenzare il tono complessivo [AllForTurntables](https://allforturntables.com/2023/10/02/how-do-guitar-pickups-affect-sound/).\n\n## Scegliere il pickup giusto\n\nLa scelta del pickup giusto dipende dallo stile musicale e dalle preferenze tonali di ogni musicista. Alcuni chitarristi preferiscono il suono brillante dei single-coil, mentre altri scelgono la potenza degli humbucker. Possedono un'importante distinzione tonale che può fare una grande differenza nell'esperienza di suonare una chitarra [RockIslandSound](https://www.rockislandsound.com/post/humbuckers-vs-single-coils-which-guitar-pickup-is-right-for-you).\n\n## Innovazioni future\n\nNel futuro, i pickup continueranno a evolversi, sfruttando magneti più potenti e geometrie diverse rispetto a quelle tradizionali. Sebbene l’elettronica negli strumenti continui a espandere il numero di opzioni tonali possibili, la ricerca di un suono naturale e dinamico continua a essere al primo posto per molti musicisti [Reverb](https://reverb.com/news/the-future-of-the-electric-guitar).\n\n## Conclusione\n\nI pickup della chitarra elettrica rappresentano il cuore pulsante di quest'iconico strumento. Da semplici componenti a pezzi di alta tecnologia, hanno rivoluzionato il modo in cui la musica moderna viene creata e interpretata. Con un ruolo chiave nel definire il tono, i pickup continueranno a ispirare generazioni di musicisti in tutto il mondo.\n\n## Fonti\n\n1. [Tonepedia](https://www.tonepedia.com/electric-guitar-pickups/)\n2. [StayTunedGuitar](https://staytunedguitar.com/guitar-pickup-anatomy)\n3. [GodDamnelectrix](https://goddamnelectrix.com/humbucker-pickup-resistance/)\n4. [GodDamnelectrix](https://goddamnelectrix.com/single-coil-pickup-history/)\n5. [AllForTurntables](https://allforturntables.com/2023/10/02/how-do-guitar-pickups-affect-sound/)\n6. [RockIslandSound](https://www.rockislandsound.com/post/humbuckers-vs-single-coils-which-guitar-pickup-is-right-for-you)\n7. [Reverb](https://reverb.com/news/the-future-of-the-electric-guitar)\n8. [GuitarSpace](https://guitarspace.org/electric-guitars/humbucker-vs-single-coil/)\n9. [StayTunedGuitar](https://staytunedguitar.com/history-of-guitar-pickups)"
          },
          "metadata": {},
          "execution_count": 13
        }
      ]
    }
  ]
}