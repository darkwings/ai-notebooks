{
  "nbformat": 4,
  "nbformat_minor": 0,
  "metadata": {
    "colab": {
      "provenance": [],
      "authorship_tag": "ABX9TyPtsTffQkAnDxJpm+DU4+oI",
      "include_colab_link": true
    },
    "kernelspec": {
      "name": "python3",
      "display_name": "Python 3"
    },
    "language_info": {
      "name": "python"
    }
  },
  "cells": [
    {
      "cell_type": "markdown",
      "metadata": {
        "id": "view-in-github",
        "colab_type": "text"
      },
      "source": [
        "<a href=\"https://colab.research.google.com/github/darkwings/ai-notebooks/blob/main/The_Researcher_version_1.ipynb\" target=\"_parent\"><img src=\"https://colab.research.google.com/assets/colab-badge.svg\" alt=\"Open In Colab\"/></a>"
      ]
    },
    {
      "cell_type": "markdown",
      "source": [
        "# The Researcher (version 1)\n",
        "\n",
        "This notebook implements a simple search workflow targeted to the composition of an *essay* about a specific topic, with critique functionalities to drive the review of the essay.\n",
        "\n",
        "This is the first version, based on web search performed by Tavily.\n",
        "\n",
        "## What's next\n",
        "\n",
        "Next versions of the researcher will include\n",
        "\n",
        "- parallel search and aggregation of results\n",
        "- access to local documents with Vector Store (Self RAG)\n",
        "\n",
        "\n",
        "## Let's do it\n",
        "\n",
        "The implementation is based on [LangGraph](https://www.langchain.com/langgraph)\n",
        "\n",
        "Let's start with the setup"
      ],
      "metadata": {
        "id": "zPdShzJsshLQ"
      }
    },
    {
      "cell_type": "code",
      "source": [
        "%%capture --no-stderr\n",
        "%pip install --quiet -U langchain_openai langchain_core langchain_community langgraph"
      ],
      "metadata": {
        "id": "0nWqaIh5toot"
      },
      "execution_count": 1,
      "outputs": []
    },
    {
      "cell_type": "code",
      "source": [
        "import os, getpass\n",
        "\n",
        "def _set_env(var: str):\n",
        "    if not os.environ.get(var):\n",
        "        os.environ[var] = getpass.getpass(f\"{var}: \")\n",
        "\n",
        "_set_env(\"OPENAI_API_KEY\")"
      ],
      "metadata": {
        "colab": {
          "base_uri": "https://localhost:8080/"
        },
        "id": "kx9Rnk0atpMM",
        "outputId": "94a04a98-fa3e-499e-bd30-bc5b3ba871bf"
      },
      "execution_count": 2,
      "outputs": [
        {
          "name": "stdout",
          "output_type": "stream",
          "text": [
            "OPENAI_API_KEY: ··········\n"
          ]
        }
      ]
    },
    {
      "cell_type": "code",
      "source": [
        "_set_env(\"TAVILY_API_KEY\")"
      ],
      "metadata": {
        "colab": {
          "base_uri": "https://localhost:8080/"
        },
        "id": "bgJotxEXtqtv",
        "outputId": "816eb431-73ff-4b36-cbfe-31b83829ccb5"
      },
      "execution_count": 3,
      "outputs": [
        {
          "name": "stdout",
          "output_type": "stream",
          "text": [
            "TAVILY_API_KEY: ··········\n"
          ]
        }
      ]
    },
    {
      "cell_type": "markdown",
      "source": [
        "Now, let's import all the needed stuff and declare\n",
        "\n",
        "- the main [state](https://medium.com/@gitmaxd/understanding-state-in-langgraph-a-comprehensive-guide-191462220997) of the Graph\n",
        "- some objects that we're going to use as [structured output](https://python.langchain.com/docs/concepts/structured_outputs/)"
      ],
      "metadata": {
        "id": "p6MF4H4nvlbo"
      }
    },
    {
      "cell_type": "code",
      "source": [
        "from typing import TypedDict, List\n",
        "from langchain_openai import ChatOpenAI\n",
        "import operator\n",
        "from pydantic import BaseModel, Field\n",
        "from typing import Annotated\n",
        "from langgraph.graph import MessagesState\n",
        "from langchain_community.tools.tavily_search import TavilySearchResults\n",
        "from langchain_core.messages import AIMessage, HumanMessage, SystemMessage\n",
        "from langgraph.graph import START, END, StateGraph\n",
        "from langgraph.checkpoint.memory import MemorySaver\n",
        "from IPython.display import Image, display\n",
        "\n",
        "\n",
        "class AgentState(TypedDict):\n",
        "  # the topic of the essay\n",
        "  topic: str\n",
        "\n",
        "  #the plan\n",
        "  plan: str\n",
        "\n",
        "  # the content written by the compose agent\n",
        "  draft: str\n",
        "\n",
        "  # the desired language\n",
        "  desired_language: str\n",
        "\n",
        "  # the critique moved by reflection step\n",
        "  critique: str\n",
        "\n",
        "  # the body of collected documents\n",
        "  content: List[str]\n",
        "\n",
        "  # the iteration\n",
        "  revision_number: int\n",
        "\n",
        "  # the max number of iterations\n",
        "  max_revisions: int\n",
        "\n",
        "\n",
        "# STRUCTURED OUTPUTS\n",
        "class Plan(BaseModel):\n",
        "  plan: str\n",
        "\n",
        "class Queries(BaseModel):\n",
        "  queries: List[str]"
      ],
      "metadata": {
        "id": "pxCe4hkBvqmL"
      },
      "execution_count": 16,
      "outputs": []
    },
    {
      "cell_type": "markdown",
      "source": [
        "## Nodes\n",
        "\n",
        "Now, let's define the nodes"
      ],
      "metadata": {
        "id": "NgFF9o9ryVJK"
      }
    },
    {
      "cell_type": "code",
      "source": [
        "llm = ChatOpenAI(model=\"gpt-4o\")\n",
        "tavily_search = TavilySearchResults(max_results=3)"
      ],
      "metadata": {
        "id": "yvC4aN7FzHes"
      },
      "execution_count": 17,
      "outputs": []
    },
    {
      "cell_type": "code",
      "source": [
        "# PLAN SEARCH NODE\n",
        "def plan_node(state: AgentState):\n",
        "  system_prompt = \"\"\"\n",
        "  You're a helpful assistant that can determine, starting from a topic described with simple words,\n",
        "  a full plan that can be used to reason about the given topic. If you don't know\n",
        "  anything about the topic, please create a plan that will give you all\n",
        "  the needed kwowledge about the topic\n",
        "  \"\"\"\n",
        "  messages = [\n",
        "      SystemMessage(content=system_prompt),\n",
        "      HumanMessage(content=f\"Generate a plan to generate an essay about the following topic: {state['topic']}\")\n",
        "  ]\n",
        "  plan = llm.with_structured_output(Plan).invoke(messages)\n",
        "  return {\"plan\": plan.plan}\n",
        "\n",
        "\n",
        "# RESEARCH NODE\n",
        "def research_node(state: AgentState):\n",
        "  system_prompt = \"\"\"\n",
        "  You are a researcher that is in charge, given a plan, to provide meaningful information to write an essay.\n",
        "  Given a plan, you're in charge to produce 3 meaningful search queries that can be\n",
        "  used to search the web in order to gather meaningful informations.\n",
        "\n",
        "  The plan is the following:\n",
        "  {plan}\n",
        "  \"\"\"\n",
        "\n",
        "  queries = llm.with_structured_output(Queries).invoke(\n",
        "      [SystemMessage(content=system_prompt.format(plan=state[\"plan\"])),\n",
        "       HumanMessage(content=\"Generate 3 search queries based on the plan.\")]\n",
        "  )\n",
        "  content = state['content'] or []\n",
        "  for q in queries.queries:\n",
        "    documents = tavily_search.invoke({\"query\": q})\n",
        "    for doc in documents:\n",
        "      content.append(f'<Document href=\"{doc[\"url\"]}\"/>\\n{doc[\"content\"]}\\n</Document>')\n",
        "  return {\"content\": content}\n",
        "\n",
        "\n",
        "# GENERATE ESSAY NODE\n",
        "def generate_node(state: AgentState):\n",
        "  system_prompt = \"\"\"\n",
        "  You're an expert in writing an essay of 5 paragraph given the provided\n",
        "  information. Try to adhere to the target topic and the provided plan. Your\n",
        "  output should be captivating and should be understandable by non expert people,\n",
        "  so try to use the simplest words possible to keep the essay understandable.\n",
        "\n",
        "  Your output should be in markdown format, it must have a captivating titles\n",
        "  and each paragraph should have a meaningful header outlining the content of\n",
        "  the paragraph itself.\n",
        "\n",
        "  This is the content to use for the essay. It is expressed as XML tag, with\n",
        "  the document tag containing the URL. Add a final section in the essay adding the\n",
        "  url of the documents used to generate the essay.\n",
        "\n",
        "  Important: the essay should be written in the following language: {desired_language}\n",
        "\n",
        "  -------\n",
        "\n",
        "  {content}\n",
        "  \"\"\"\n",
        "  content = \"\\n\\n\".join(state['content'] or [])\n",
        "  messages = [\n",
        "      SystemMessage(content=system_prompt.format(desired_language=state['desired_language'], content=content)),\n",
        "      HumanMessage(content=f\"This is the topic to discuss: {state['topic']}.\\n\\nThis is the plan: {state['plan']}\")\n",
        "  ]\n",
        "  draft = llm.invoke(messages)\n",
        "  return {\"draft\": draft.content, \"revision_number\": state.get('revision_number', 1) + 1}\n",
        "\n",
        "\n",
        "# REFLECTION NODE\n",
        "def reflection_node(state: AgentState):\n",
        "  system_prompt = \"\"\"\n",
        "  You're a helpful reviewer in order to understand if the provided draft is consistent\n",
        "  with the given plan and topic and if the draft is understandable by non expert people.\n",
        "\n",
        "  The outcome of your analysis should be a critique that can be used to improve the draft\n",
        "  and further search the web to improve sources.\n",
        "\n",
        "  If the draft is ok just output the word \"OK\", that means there are no critiques.\n",
        "\n",
        "  -------\n",
        "\n",
        "  This is the initial topic: {topic}\n",
        "\n",
        "  This is the plan: {plan}\n",
        "\n",
        "  This is the draft of the essay:\n",
        "  {draft}\n",
        "  \"\"\"\n",
        "\n",
        "  topic = state.get('topic', '')  # Get 'topic' with a default value if not present\n",
        "  plan = state.get('plan', '')  # Get 'plan' with a default value if not present\n",
        "  draft = state.get('draft', '')\n",
        "\n",
        "  critique = llm.invoke([SystemMessage(content=system_prompt.format(topic=topic, plan=plan, draft=draft))])\n",
        "  return {\"critique\": critique.content}\n",
        "\n",
        "\n",
        "# CRITIQUE NODE\n",
        "def research_critique_node(state: AgentState):\n",
        "  system_prompt = \"\"\"\n",
        "  You're a smart reviewer and you're able to generare a search query to\n",
        "  satisfy a critique that is proposed about the given draft.\n",
        "\n",
        "  This is the draft of the essay:\n",
        "  {draft}\n",
        "  \"\"\"\n",
        "  messages = [\n",
        "      SystemMessage(content=system_prompt.format(draft=state['draft'])),\n",
        "      HumanMessage(content=f\"Generate 3 search queries based on the following critique: {state['critique']}\")\n",
        "  ]\n",
        "  queries = llm.with_structured_output(Queries).invoke(messages)\n",
        "  content = state['content'] or []\n",
        "  for q in queries.queries:\n",
        "    documents = tavily_search.invoke(q)\n",
        "    for doc in documents:\n",
        "      content.append(f'<Document href=\"{doc[\"url\"]}\"/>\\n{doc[\"content\"]}\\n</Document>')\n",
        "  return {\"content\": content}\n",
        "\n",
        "\n",
        "# LOOPER\n",
        "def should_continue(state: AgentState):\n",
        "  if state[\"critique\"] == \"OK\":\n",
        "    return END\n",
        "  if state[\"revision_number\"] > state[\"max_revisions\"]:\n",
        "    return END\n",
        "  return \"reviewer\""
      ],
      "metadata": {
        "id": "beeJIQVsydJu"
      },
      "execution_count": 18,
      "outputs": []
    },
    {
      "cell_type": "markdown",
      "source": [
        "Now we can compose the graph\n"
      ],
      "metadata": {
        "id": "sy5GkuHN8aNM"
      }
    },
    {
      "cell_type": "code",
      "source": [
        "builder = StateGraph(AgentState)\n",
        "\n",
        "builder.add_node(\"planner\", plan_node)\n",
        "builder.add_node(\"researcher\", research_node)\n",
        "builder.add_node(\"generator\", generate_node)\n",
        "builder.add_node(\"reviewer\", reflection_node)\n",
        "builder.add_node(\"critiquer\", research_critique_node)\n",
        "\n",
        "builder.set_entry_point(\"planner\")\n",
        "\n",
        "builder.add_conditional_edges(\"generator\",\n",
        "                              should_continue,\n",
        "                              {END: END, \"reviewer\": \"reviewer\"})\n",
        "\n",
        "builder.add_edge(\"planner\", \"researcher\")\n",
        "builder.add_edge(\"researcher\", \"generator\")\n",
        "builder.add_edge(\"reviewer\", \"critiquer\")\n",
        "builder.add_edge(\"critiquer\", \"generator\")\n",
        "\n",
        "memory = MemorySaver()\n",
        "\n",
        "graph = builder.compile(checkpointer=memory)\n",
        "\n",
        "# Show\n",
        "display(Image(graph.get_graph(xray=True).draw_mermaid_png()))"
      ],
      "metadata": {
        "colab": {
          "base_uri": "https://localhost:8080/",
          "height": 563
        },
        "id": "SIXshoST8u3l",
        "outputId": "6af548ea-f0b9-4a77-abad-01231fcd4d37"
      },
      "execution_count": 19,
      "outputs": [
        {
          "output_type": "display_data",
          "data": {
            "image/png": "[encoded data removed]",
            "text/plain": [
              "<IPython.core.display.Image object>"
            ]
          },
          "metadata": {}
        }
      ]
    },
    {
      "cell_type": "markdown",
      "source": [
        "As we can see, the first version of the Researcher is very basic. It always performs 3 round of critique and does not allow parallel research. Moreover, it relies only on web documents.\n",
        "\n",
        "We will address those issues in the next versions.\n",
        "\n",
        "## Test\n",
        "\n",
        "Ora passiamo al test del grafo"
      ],
      "metadata": {
        "id": "NAf06NOn-gRc"
      }
    },
    {
      "cell_type": "code",
      "source": [
        "from IPython.display import Markdown\n",
        "\n",
        "state = AgentState(topic=\"descrivi storia e funzionamento del motore a due tempi\",\n",
        "                   plan=\"\",\n",
        "                   desired_language=\"italian\",\n",
        "                   draft=\"\",\n",
        "                   critique=\"\",\n",
        "                   content=[],\n",
        "                   revision_number = 0,\n",
        "                   max_revisions=2)\n",
        "\n",
        "configurable = {\"configurable\": {\"thread_id\": \"1\"}}\n",
        "\n",
        "graph.invoke(input=state, config=configurable)\n",
        "\n",
        "result = graph.get_state(configurable)\n",
        "\n",
        "# print(result)\n",
        "\n",
        "# result is a tuple\n",
        "Markdown(result.values[\"draft\"])\n",
        "\n"
      ],
      "metadata": {
        "colab": {
          "base_uri": "https://localhost:8080/",
          "height": 849
        },
        "id": "6FwWlxCD-jdU",
        "outputId": "ea4c9026-face-42fd-aa78-0d700a53f1cd"
      },
      "execution_count": 21,
      "outputs": [
        {
          "output_type": "execute_result",
          "data": {
            "text/plain": [
              "<IPython.core.display.Markdown object>"
            ],
            "text/markdown": "# Il Fascino dei Motori a Due Tempi: Storia e Funzionamento\n\n## Introduzione ai Motori a Due Tempi\n\nI motori a due tempi rappresentano una pietra miliare nel mondo della meccanica. Si tratta di motori a combustione interna che completano un ciclo di potenza con soli due movimenti del pistone, rendendoli fondamentali per applicazioni dove la leggerezza e la semplicità sono essenziali. Questi motori hanno trovato un posto speciale nei cuori degli appassionati di motori per la loro capacità di fornire grande potenza su macchine più piccole e leggere.\n\n## La Storia del Motore a Due Tempi\n\nIl motore a due tempi ha origini che risalgono al 1880, con l'invenzione attribuita a Dugald Clark. Successivamente, Joseph Day migliorò il design con un brevetto nel 1895, introducendo un motore a due tempi con due porte. Nel corso degli anni, questi motori hanno subito varie trasformazioni, trovando applicazione in settori come quello agricolo, motociclistico e nelle attrezzature portatili. La loro semplicità di costruzione e manutenzione li ha resi ideali per utilizzi dove la robustezza e l'affidabilità erano richieste.\n\n## Principio di Funzionamento del Motore a Due Tempi\n\nUn motore a due tempi si compone principalmente di un pistone, un cilindro e una biella. Nel suo ciclo di funzionamento, il motore esegue quattro fasi principali: aspirazione, compressione, scoppio e scarico, il tutto in due soli movimenti del pistone. A differenza dei motori a quattro tempi, i motori a due tempi non utilizzano valvole per il controllo dei gas, ma porte nel cilindro che si aprono e chiudono con il movimento del pistone, rendendo il ciclo più rapido e semplice.\n\n## Vantaggi e Svantaggi del Motore a Due Tempi\n\nI motori a due tempi offrono vantaggi significativi, tra cui peso ridotto e meno componenti mobili, il che si traduce in costi di produzione e manutenzione inferiori. Tuttavia, presentano anche svantaggi, come un'efficienza del carburante più bassa e maggiori emissioni inquinanti rispetto ai motori a quattro tempi. Questi aspetti li hanno resi meno popolari nelle applicazioni dove le normative ambientali sono stringenti.\n\n## Utilizzo Moderno e Prospettive Future\n\nOggi, i motori a due tempi sono ancora utilizzati in settori come quello delle attrezzature da giardinaggio, motociclette leggere e motori fuoribordo. Le recenti innovazioni, come l'iniezione diretta, hanno migliorato l'efficienza e ridotto le emissioni, aprendo nuove prospettive per questi motori. Nonostante la crescente diffusione dei motori elettrici, i motori a due tempi continuano ad avere un ruolo nelle applicazioni dove la potenza immediata e il peso ridotto sono essenziali.\n\n## Conclusione\n\nIn sintesi, i motori a due tempi hanno una storia ricca e complessa, con un funzionamento semplice ma efficace. Nonostante i loro limiti, continuano a essere una scelta valida in diverse applicazioni grazie alle loro caratteristiche uniche. Con le innovazioni tecnologiche, potrebbero ancora avere un ruolo significativo nel futuro, bilanciando le sfide ambientali con il loro potenziale di alta potenza e leggerezza.\n\n---\n\n### Fonti Consultate\n\n1. [The Early History of Engines | Actforlibraries.org](http://www.actforlibraries.org/the-early-history-of-engines/)\n2. [Two-stroke diesel engine - Wikipedia](https://en.wikipedia.org/wiki/Two-stroke_diesel_engine)\n3. [The 2-Stroke Cycle - Gas Engine Magazine](https://www.gasenginemagazine.com/gas-engines/2-stroke-cycle-zm0z19djzhur/)\n4. [Two-stroke engine - Byju's](https://byjus.com/physics/two-stroke-engine/)\n5. [Two-stroke engine - Testbook](https://testbook.com/physics/two-stroke-engine)"
          },
          "metadata": {},
          "execution_count": 21
        }
      ]
    }
  ]
}