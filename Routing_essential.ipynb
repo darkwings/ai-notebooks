{
  "nbformat": 4,
  "nbformat_minor": 0,
  "metadata": {
    "colab": {
      "provenance": [],
      "authorship_tag": "ABX9TyOFzAScfiJuR2hK7OFFowH+",
      "include_colab_link": true
    },
    "kernelspec": {
      "name": "python3",
      "display_name": "Python 3"
    },
    "language_info": {
      "name": "python"
    }
  },
  "cells": [
    {
      "cell_type": "markdown",
      "metadata": {
        "id": "view-in-github",
        "colab_type": "text"
      },
      "source": [
        "<a href=\"https://colab.research.google.com/github/darkwings/ai-notebooks/blob/main/Routing_essential.ipynb\" target=\"_parent\"><img src=\"https://colab.research.google.com/assets/colab-badge.svg\" alt=\"Open In Colab\"/></a>"
      ]
    },
    {
      "cell_type": "markdown",
      "source": [
        "# Navigation rudimental\n",
        "\n",
        "A simple notebook to investigate routing functions of LangGraph, no LLM in this notebook."
      ],
      "metadata": {
        "id": "uQlO7UuAzisL"
      }
    },
    {
      "cell_type": "code",
      "execution_count": 4,
      "metadata": {
        "id": "7C4wF7iuywH1"
      },
      "outputs": [],
      "source": [
        "%%capture --no-stderr\n",
        "%pip install --quiet -U langgraph langchain_openai langchain_community langchain_core tavily-python wikipedia"
      ]
    },
    {
      "cell_type": "code",
      "source": [
        "import os, getpass\n",
        "\n",
        "def _set_env(var: str):\n",
        "    if not os.environ.get(var):\n",
        "        os.environ[var] = getpass.getpass(f\"{var}: \")\n",
        "\n",
        "_set_env(\"OPENAI_API_KEY\")"
      ],
      "metadata": {
        "colab": {
          "base_uri": "https://localhost:8080/"
        },
        "id": "nVnpV0z3z5mD",
        "outputId": "89cfcb2d-dc1b-4660-e5d0-28709edd2910"
      },
      "execution_count": 2,
      "outputs": [
        {
          "name": "stdout",
          "output_type": "stream",
          "text": [
            "OPENAI_API_KEY: ··········\n"
          ]
        }
      ]
    },
    {
      "cell_type": "markdown",
      "source": [
        "## Navigate with a function\n",
        "\n",
        "Let's define a function that switch between a node and another in the workflow."
      ],
      "metadata": {
        "id": "UY4ocUc20AmI"
      }
    },
    {
      "cell_type": "code",
      "source": [
        "from IPython.display import Image, display\n",
        "from langgraph.graph import StateGraph, START, END\n",
        "from typing_extensions import TypedDict\n",
        "from typing import Literal\n",
        "import random\n",
        "\n",
        "class TypedDictState(TypedDict):\n",
        "    name: str\n",
        "    mood: Literal[\"happy\",\"sad\"]\n",
        "\n",
        "# Node Functions\n",
        "def node_1(state):\n",
        "    print(\"---Node 1---\")\n",
        "    return {\"name\": state['name'] + \" is ... \"}\n",
        "\n",
        "def node_2(state):\n",
        "    print(\"---Node 2---\")\n",
        "    return {\"mood\": \"happy\"}\n",
        "\n",
        "def node_3(state):\n",
        "    print(\"---Node 3---\")\n",
        "    return {\"mood\": \"sad\"}\n",
        "\n",
        "# This is the route function, in this case is simply a random node\n",
        "#\n",
        "def decide_mood(state) -> Literal[\"node_2\", \"node_3\"]:\n",
        "\n",
        "    # Here, let's just do a 50 / 50 split between nodes 2, 3\n",
        "    if random.random() < 0.5:\n",
        "\n",
        "        # 50% of the time, we return Node 2\n",
        "        return \"node_2\"\n",
        "\n",
        "    # 50% of the time, we return Node 3\n",
        "    return \"node_3\""
      ],
      "metadata": {
        "id": "s00oXEfk0IbE"
      },
      "execution_count": 7,
      "outputs": []
    },
    {
      "cell_type": "markdown",
      "source": [
        "Now complete the graph"
      ],
      "metadata": {
        "id": "-BYqVvdh1enw"
      }
    },
    {
      "cell_type": "code",
      "source": [
        "# Build graph\n",
        "builder = StateGraph(TypedDictState)\n",
        "builder.add_node(\"node_1\", node_1)\n",
        "builder.add_node(\"node_2\", node_2)\n",
        "builder.add_node(\"node_3\", node_3)\n",
        "\n",
        "# Logic\n",
        "builder.add_edge(START, \"node_1\")\n",
        "builder.add_conditional_edges(\"node_1\", decide_mood) # Conditional edges, explicitely declared\n",
        "builder.add_edge(\"node_2\", END)\n",
        "builder.add_edge(\"node_3\", END)\n",
        "\n",
        "# Add\n",
        "graph = builder.compile()\n",
        "\n",
        "# View\n",
        "display(Image(graph.get_graph().draw_mermaid_png()))"
      ],
      "metadata": {
        "colab": {
          "base_uri": "https://localhost:8080/",
          "height": 350
        },
        "id": "1Gsb7H3-1g9g",
        "outputId": "b40b1f80-72d4-42ea-ce38-e6de74fcd2b7"
      },
      "execution_count": 8,
      "outputs": [
        {
          "output_type": "display_data",
          "data": {
            "image/png": "[encoded data removed]",
            "text/plain": [
              "<IPython.core.display.Image object>"
            ]
          },
          "metadata": {}
        }
      ]
    },
    {
      "cell_type": "markdown",
      "source": [
        "Let's invoke"
      ],
      "metadata": {
        "id": "9iDLfPd510i1"
      }
    },
    {
      "cell_type": "code",
      "source": [
        "graph.invoke({\"name\":\"Frank\"})"
      ],
      "metadata": {
        "colab": {
          "base_uri": "https://localhost:8080/"
        },
        "id": "T_c9VTMU12QV",
        "outputId": "560f68f9-5e3c-4772-c4fe-02e563ac8508"
      },
      "execution_count": 12,
      "outputs": [
        {
          "output_type": "stream",
          "name": "stdout",
          "text": [
            "---Node 1---\n",
            "---Node 2---\n"
          ]
        },
        {
          "output_type": "execute_result",
          "data": {
            "text/plain": [
              "{'name': 'Frank is ... ', 'mood': 'happy'}"
            ]
          },
          "metadata": {},
          "execution_count": 12
        }
      ]
    },
    {
      "cell_type": "markdown",
      "source": [
        "## Commands\n",
        "\n",
        "Another way to route the flow is use Command. Let's see this in use with a graph similar to the one above"
      ],
      "metadata": {
        "id": "7GTQq7PG165C"
      }
    },
    {
      "cell_type": "code",
      "source": [
        "from langgraph.types import Command\n",
        "\n",
        "def node_1a(state: TypedDictState) -> Command[Literal[\"node_2\", \"node_3\"]]:\n",
        "    print(\"Called A\")\n",
        "    value = random.choice([\"a\", \"b\"])\n",
        "    # this is a replacement for a conditional edge function\n",
        "    if value == \"a\":\n",
        "        goto = \"node_2\"\n",
        "    else:\n",
        "        goto = \"node_3\"\n",
        "\n",
        "    # note how Command allows you to BOTH update the graph state AND route to the next node\n",
        "    return Command(\n",
        "        # this is the state update if we need to do this\n",
        "        # update={\"foo\": value},\n",
        "        # this is a replacement for an edge\n",
        "        goto=goto,\n",
        "    )"
      ],
      "metadata": {
        "id": "_XOEOBde2T4M"
      },
      "execution_count": 14,
      "outputs": []
    },
    {
      "cell_type": "markdown",
      "source": [
        "Create a graph now, you'll notice that there is no need to add edges, because the navigation is implicitely defined by the use of Command Objects."
      ],
      "metadata": {
        "id": "_m3sswtG27q8"
      }
    },
    {
      "cell_type": "code",
      "source": [
        "builder = StateGraph(TypedDictState)\n",
        "builder.add_edge(START, \"node_1a\")\n",
        "builder.add_node(node_1a)\n",
        "builder.add_node(node_2)\n",
        "builder.add_node(node_3)\n",
        "# NOTE: there are no edges between nodes 1, 2 and 3!\n",
        "\n",
        "graph = builder.compile()\n",
        "\n",
        "# View\n",
        "display(Image(graph.get_graph().draw_mermaid_png()))"
      ],
      "metadata": {
        "colab": {
          "base_uri": "https://localhost:8080/",
          "height": 266
        },
        "id": "EYhzHIYc3Ej0",
        "outputId": "6ba5d030-dff0-4ac8-889e-acfb774d2ece"
      },
      "execution_count": 17,
      "outputs": [
        {
          "output_type": "display_data",
          "data": {
            "image/png": "[encoded data removed]",
            "text/plain": [
              "<IPython.core.display.Image object>"
            ]
          },
          "metadata": {}
        }
      ]
    },
    {
      "cell_type": "markdown",
      "source": [
        "Let's test again"
      ],
      "metadata": {
        "id": "H7c6MTAn3lzp"
      }
    },
    {
      "cell_type": "code",
      "source": [
        "graph.invoke({\"name\":\"Frank\"})"
      ],
      "metadata": {
        "colab": {
          "base_uri": "https://localhost:8080/"
        },
        "id": "Qmip3Qu93ng-",
        "outputId": "d0f2593d-7235-48dc-d90d-38ace921973a"
      },
      "execution_count": 18,
      "outputs": [
        {
          "output_type": "stream",
          "name": "stdout",
          "text": [
            "Called A\n",
            "---Node 2---\n"
          ]
        },
        {
          "output_type": "execute_result",
          "data": {
            "text/plain": [
              "{'name': 'Frank', 'mood': 'happy'}"
            ]
          },
          "metadata": {},
          "execution_count": 18
        }
      ]
    },
    {
      "cell_type": "markdown",
      "source": [
        "The use of [Command](https://langchain-ai.github.io/langgraph/concepts/low_level/#command) object allows us to create a dynamic flow between the nodes.\n",
        "\n",
        "## Using command to update the state of the workflow\n",
        "\n",
        "Let's update the flow, showing how to update the state of a graph with a command.\n",
        "In order to show how to update the state, we use another state object so we have to define new function\n"
      ],
      "metadata": {
        "id": "D8gU_eBY3y4N"
      }
    },
    {
      "cell_type": "code",
      "source": [
        "# A dedicated state\n",
        "\n",
        "class UpdatedState(TypedDict):\n",
        "  name: str\n",
        "  decider: str\n",
        "  mood: Literal[\"happy\", \"sad\"]\n",
        "\n",
        "def node_1b(state: UpdatedState) -> Command[Literal[\"node_2\", \"node_3\"]]:\n",
        "\n",
        "    coin = random.choice([\"head\", \"tail\"])\n",
        "    # this is a replacement for a conditional edge function\n",
        "    if coin == \"head\":\n",
        "        goto = \"node_2\"\n",
        "    else:\n",
        "        goto = \"node_3\"\n",
        "\n",
        "    # note how Command allows you to BOTH update the graph state AND route to the next node\n",
        "    return Command(\n",
        "        # this is the state update\n",
        "        update={\"decider\": coin},\n",
        "        # this is a replacement for an edge\n",
        "        goto=goto,\n",
        "    )"
      ],
      "metadata": {
        "id": "qLVwH2_l4UAi"
      },
      "execution_count": 22,
      "outputs": []
    },
    {
      "cell_type": "markdown",
      "source": [
        "Now, let's create the graph"
      ],
      "metadata": {
        "id": "oE8Rf0a647pR"
      }
    },
    {
      "cell_type": "code",
      "source": [
        "builder = StateGraph(UpdatedState)\n",
        "builder.add_edge(START, \"node_1b\")\n",
        "builder.add_node(node_1b)\n",
        "builder.add_node(node_2)\n",
        "builder.add_node(node_3)\n",
        "# NOTE: there are no edges between nodes 1, 2 and 3!\n",
        "\n",
        "graph = builder.compile()\n",
        "\n",
        "# View\n",
        "display(Image(graph.get_graph().draw_mermaid_png()))"
      ],
      "metadata": {
        "colab": {
          "base_uri": "https://localhost:8080/",
          "height": 266
        },
        "id": "18nQtwqk4-69",
        "outputId": "aaeea7a3-7aa3-4bb3-fbda-bff6d458233b"
      },
      "execution_count": 23,
      "outputs": [
        {
          "output_type": "display_data",
          "data": {
            "image/png": "[encoded data removed]",
            "text/plain": [
              "<IPython.core.display.Image object>"
            ]
          },
          "metadata": {}
        }
      ]
    },
    {
      "cell_type": "markdown",
      "source": [
        "And now... test it"
      ],
      "metadata": {
        "id": "yNWkIx745Yd9"
      }
    },
    {
      "cell_type": "code",
      "source": [
        "graph.invoke({\"name\":\"Frank\"})"
      ],
      "metadata": {
        "colab": {
          "base_uri": "https://localhost:8080/"
        },
        "id": "E2iBonRf5bDh",
        "outputId": "4511b971-8299-44b6-da8c-5f08176c857f"
      },
      "execution_count": 24,
      "outputs": [
        {
          "output_type": "stream",
          "name": "stdout",
          "text": [
            "---Node 3---\n"
          ]
        },
        {
          "output_type": "execute_result",
          "data": {
            "text/plain": [
              "{'name': 'Frank', 'decider': 'tail', 'mood': 'sad'}"
            ]
          },
          "metadata": {},
          "execution_count": 24
        }
      ]
    }
  ]
}