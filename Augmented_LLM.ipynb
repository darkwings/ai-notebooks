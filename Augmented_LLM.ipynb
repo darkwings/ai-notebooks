{
  "nbformat": 4,
  "nbformat_minor": 0,
  "metadata": {
    "colab": {
      "provenance": [],
      "authorship_tag": "ABX9TyP0ubaupQWGef0ndaYfpbBz",
      "include_colab_link": true
    },
    "kernelspec": {
      "name": "python3",
      "display_name": "Python 3"
    },
    "language_info": {
      "name": "python"
    }
  },
  "cells": [
    {
      "cell_type": "markdown",
      "metadata": {
        "id": "view-in-github",
        "colab_type": "text"
      },
      "source": [
        "<a href=\"https://colab.research.google.com/github/darkwings/ai-notebooks/blob/main/Augmented_LLM.ipynb\" target=\"_parent\"><img src=\"https://colab.research.google.com/assets/colab-badge.svg\" alt=\"Open In Colab\"/></a>"
      ]
    },
    {
      "cell_type": "markdown",
      "source": [
        "# Agent Workflows\n",
        "\n",
        "Partiamo da questo _clamoroso_ [articolo](https://www.anthropic.com/research/building-effective-agents) pubblicato da Anthropic.\n",
        "\n",
        "L'articolo pone enfasi sul provare a utilizzare soluzioni semplici, limitando il ricorso a frameworks.\n",
        "\n",
        "Sicuramente è vero, ma è altrettanto vero che in alcuni casi l'utilizzo di framework può essere di aiuto.\n",
        "\n",
        "In questo notebook si mostra una possibile implementazione tramite [LangGraph](https://www.langchain.com/langgraph) del building block **Augmented LLM**, ove al modello viene messo a disposizione una serie di tool.\n",
        "\n",
        "Il tool in questo caso è l'accesso al web per eseguire ricerche.\n",
        "\n",
        "Usiamo OpenAI e Tavily (alternativa BraveSearch), per i quali va fornita l'API key.\n",
        "\n",
        "Iniziamo dal setup"
      ],
      "metadata": {
        "id": "FwM_K8XATtbi"
      }
    },
    {
      "cell_type": "code",
      "source": [
        "%%capture --no-stderr\n",
        "%pip install --quiet -U langchain_openai langchain_core langchain_community langgraph"
      ],
      "metadata": {
        "id": "u4pvI8G9VkRi"
      },
      "execution_count": 45,
      "outputs": []
    },
    {
      "cell_type": "code",
      "source": [
        "import os, getpass\n",
        "\n",
        "def _set_env(var: str):\n",
        "    if not os.environ.get(var):\n",
        "        os.environ[var] = getpass.getpass(f\"{var}: \")\n",
        "\n",
        "_set_env(\"OPENAI_API_KEY\")"
      ],
      "metadata": {
        "id": "t0g8gN9vVmVK"
      },
      "execution_count": 46,
      "outputs": []
    },
    {
      "cell_type": "code",
      "source": [
        "_set_env(\"TAVILY_API_KEY\")"
      ],
      "metadata": {
        "id": "-bGvk5pIVrN4"
      },
      "execution_count": 47,
      "outputs": []
    },
    {
      "cell_type": "markdown",
      "source": [
        "Ora avviamo il modello"
      ],
      "metadata": {
        "id": "xQiULNZFWVYq"
      }
    },
    {
      "cell_type": "code",
      "source": [
        "from langchain_openai import ChatOpenAI\n",
        "\n",
        "llm = ChatOpenAI(model=\"gpt-4o\")"
      ],
      "metadata": {
        "id": "4l2I49mTWZwz"
      },
      "execution_count": 48,
      "outputs": []
    },
    {
      "cell_type": "markdown",
      "source": [
        "Definiamo il modello"
      ],
      "metadata": {
        "id": "aV9uBB5QZjLF"
      }
    },
    {
      "cell_type": "code",
      "source": [
        "import operator\n",
        "from pydantic import BaseModel, Field\n",
        "from typing import Annotated\n",
        "from langgraph.graph import MessagesState\n",
        "\n",
        "# The state of the graph\n",
        "class SearchState(MessagesState):\n",
        "  context: Annotated[list, operator.add]"
      ],
      "metadata": {
        "id": "e1vbEf2UXivV"
      },
      "execution_count": 49,
      "outputs": []
    },
    {
      "cell_type": "markdown",
      "source": [
        "Definiamo i tool di ricerca"
      ],
      "metadata": {
        "id": "Y60HNCPsZkzj"
      }
    },
    {
      "cell_type": "code",
      "source": [
        "# Web search tool\n",
        "from langchain_community.tools.tavily_search import TavilySearchResults\n",
        "tavily_search = TavilySearchResults(max_results=3)"
      ],
      "metadata": {
        "id": "2PNrHvN3ZnUX"
      },
      "execution_count": 50,
      "outputs": []
    },
    {
      "cell_type": "code",
      "source": [
        "def search_web(query: str):\n",
        "\n",
        "    \"\"\" Retrieve docs from web search\n",
        "\n",
        "        Arguments\n",
        "           query: the query string to use\n",
        "\n",
        "        Output\n",
        "           a list of documents to be used in the context\n",
        "    \"\"\"\n",
        "\n",
        "    # Search\n",
        "    search_docs = tavily_search.invoke(query)\n",
        "\n",
        "     # Format\n",
        "    formatted_search_docs = \"\\n\\n---\\n\\n\".join(\n",
        "        [\n",
        "            f'<Document href=\"{doc[\"url\"]}\"/>\\n{doc[\"content\"]}\\n</Document>'\n",
        "            for doc in search_docs\n",
        "        ]\n",
        "    )\n",
        "\n",
        "    return formatted_search_docs"
      ],
      "metadata": {
        "id": "N_sNXuXhaHNR"
      },
      "execution_count": 51,
      "outputs": []
    },
    {
      "cell_type": "markdown",
      "source": [
        "Abbiamo definito quindi il tool per eseguire ricerche sul web, ora completiamo il grafo"
      ],
      "metadata": {
        "id": "GDs6cBvxaxRv"
      }
    },
    {
      "cell_type": "code",
      "source": [
        "tools = [search_web]\n",
        "llm_with_tools = llm.bind_tools(tools)"
      ],
      "metadata": {
        "id": "v7GVs8Jea5g2"
      },
      "execution_count": 52,
      "outputs": []
    },
    {
      "cell_type": "code",
      "source": [
        "from langgraph.graph import MessagesState\n",
        "from langchain_core.messages import AIMessage, HumanMessage, SystemMessage\n",
        "\n",
        "# System message\n",
        "\n",
        "system_prompt = \"\"\"\n",
        "You are a helpful assistant.\n",
        "\n",
        "You are able to search the web to get the right answer to the question provided\n",
        "by the user.\n",
        "\n",
        "You should provide the final answer in markdown format and you MUST include the\n",
        "sources used to answer, showing the url of the web page retrieved by the search tool.\n",
        "\n",
        "Therefore, the answer should have the following format\n",
        "\n",
        "# Description\n",
        "\n",
        "# Sources\n",
        "-  [source1](link of source1)\n",
        "-  [source2](link of source1)\n",
        "\"\"\"\n",
        "sys_msg = SystemMessage(content=system_prompt)\n",
        "\n",
        "# Node\n",
        "def assistant(state: MessagesState):\n",
        "   return {\"messages\": [llm_with_tools.invoke([sys_msg] + state[\"messages\"])]}"
      ],
      "metadata": {
        "id": "2djGS-nic1cA"
      },
      "execution_count": 53,
      "outputs": []
    },
    {
      "cell_type": "code",
      "source": [
        "from langgraph.graph import START, StateGraph\n",
        "from langgraph.prebuilt import tools_condition, ToolNode\n",
        "from IPython.display import Image, display\n",
        "from langgraph.checkpoint.memory import MemorySaver\n",
        "\n",
        "# Graph\n",
        "builder = StateGraph(MessagesState)\n",
        "\n",
        "# Define nodes: these do the work\n",
        "builder.add_node(\"assistant\", assistant)\n",
        "builder.add_node(\"tools\", ToolNode(tools))\n",
        "\n",
        "# Define edges: these determine how the control flow moves\n",
        "builder.add_edge(START, \"assistant\")\n",
        "builder.add_conditional_edges(\n",
        "    \"assistant\",\n",
        "    # If the latest message (result) from assistant is a tool call -> tools_condition routes to tools\n",
        "    # If the latest message (result) from assistant is a not a tool call -> tools_condition routes to END\n",
        "    tools_condition,\n",
        ")\n",
        "builder.add_edge(\"tools\", \"assistant\")\n",
        "\n",
        "# Adding memory\n",
        "memory = MemorySaver()\n",
        "\n",
        "react_graph = builder.compile(checkpointer=memory)\n",
        "\n",
        "# Show\n",
        "display(Image(react_graph.get_graph(xray=True).draw_mermaid_png()))"
      ],
      "metadata": {
        "colab": {
          "base_uri": "https://localhost:8080/",
          "height": 266
        },
        "id": "KreKxaTxd6J6",
        "outputId": "2df55c34-7573-439e-87c7-20a95aa10c44"
      },
      "execution_count": 54,
      "outputs": [
        {
          "output_type": "display_data",
          "data": {
            "image/png": "[encoded data removed]",
            "text/plain": [
              "<IPython.core.display.Image object>"
            ]
          },
          "metadata": {}
        }
      ]
    },
    {
      "cell_type": "markdown",
      "source": [
        "Ora avviamo il nostro assistente, fornendo un `thread_id` per il checkpointing"
      ],
      "metadata": {
        "id": "hq8lC86EeZRm"
      }
    },
    {
      "cell_type": "code",
      "source": [
        "config = {\"configurable\": {\"thread_id\": \"1\"}}\n",
        "\n",
        "# Specify an input\n",
        "messages = [HumanMessage(content=\"I want to discuss about the post-rock music genre. Tell me something about it\")]\n",
        "\n",
        "# Run\n",
        "messages = react_graph.invoke({\"messages\": messages}, config)\n",
        "for m in messages['messages']:\n",
        "    m.pretty_print()"
      ],
      "metadata": {
        "colab": {
          "base_uri": "https://localhost:8080/"
        },
        "id": "0Y-ht_aJecj-",
        "outputId": "8588a151-540f-4437-a30f-42f8955bc3d2"
      },
      "execution_count": 55,
      "outputs": [
        {
          "output_type": "stream",
          "name": "stdout",
          "text": [
            "================================\u001b[1m Human Message \u001b[0m=================================\n",
            "\n",
            "I want to discuss about the post-rock music genre. Tell me something about it\n",
            "==================================\u001b[1m Ai Message \u001b[0m==================================\n",
            "Tool Calls:\n",
            "  search_web (call_bX1hXAVAzuVcrzVSsRXFeJ3R)\n",
            " Call ID: call_bX1hXAVAzuVcrzVSsRXFeJ3R\n",
            "  Args:\n",
            "    query: post-rock music genre\n",
            "=================================\u001b[1m Tool Message \u001b[0m=================================\n",
            "Name: search_web\n",
            "\n",
            "<Document href=\"https://www.britannica.com/art/post-rock\"/>\n",
            "Post-rock | Ambient, Experimental, Instrumental | Britannica Ask the Chatbot Games & Quizzes History & Society Science & Tech Biographies Animals & Nature Geography & Travel Arts & Culture ProCon Money Videos post-rock Related Questions What is rock music? post-rock Share to social media https://www.britannica.com/art/post-rock Article History Table of Contents Ask the Chatbot a Question rock post-rock, genre of experimental rock music that combined elements of art rock, jazz, and alternative with electronic influences to create richly textured soundscapes. Embracing “quiet as the new loud,” post-rock shifted away from the hard, male-driven outbursts of rock music as that music became more commercialized; post-rock and other alternative genres were more independent and less commercially oriented. Britannica Quiz Sound Check: Musical Vocabulary Quiz\n",
            "</Document>\n",
            "\n",
            "---\n",
            "\n",
            "<Document href=\"https://www.reddit.com/r/postrock/comments/f2nvs0/definition_of_postrock/\"/>\n",
            "Feb 12, 2020 ... Post-rock: an umbrella term to describe the mostly instrumental music genre that uses rock instrumentation but disregards typical “rock” song\n",
            "</Document>\n",
            "\n",
            "---\n",
            "\n",
            "<Document href=\"https://www.collapseundertheempire.com/post-rock\"/>\n",
            "What is Post-Rock Music? Post-Rock Bands They may be musicians themselves, their music may be a part of this genre, their knowledge of theory and technique may explain why and when the use of certain effects transforms a rock song into a Post-Rock song. And how is Post-Rock composed on a musical level? Musical characteristics of Post-Rock Is Post-Rock simply \"instrumental music\"? What most bands of this generation have in common, is the fact that they did not plan on playing Post-Rock music. Calling Post-Rock instrumental music is not correct! Whereas music only seems to be accompanying vocals in other genres, vocals that are used in Post-Rock can be seen as an addition of another instrument to the soundscape.\n",
            "</Document>\n",
            "==================================\u001b[1m Ai Message \u001b[0m==================================\n",
            "\n",
            "# Description\n",
            "\n",
            "Post-rock is a genre of experimental rock music that emerged in the late 20th century. It combines elements of art rock, jazz, and alternative music with electronic influences to create richly textured soundscapes. The genre is known for its focus on atmosphere and texture over traditional rock song structures. Unlike typical rock music, which often features loud, explosive sounds and male-driven vocals, post-rock emphasizes quieter, more intricate compositions, sometimes described as \"quiet as the new loud.\"\n",
            "\n",
            "Post-rock often uses traditional rock instruments but disregards conventional rock song formats. The music is largely instrumental, though when vocals are used, they serve more as an additional instrument rather than the focal point of the song. This genre is characterized by its independence from commercial music trends, aligning more closely with alternative and experimental music movements.\n",
            "\n",
            "# Sources\n",
            "- [Britannica](https://www.britannica.com/art/post-rock)\n",
            "- [Reddit](https://www.reddit.com/r/postrock/comments/f2nvs0/definition_of_postrock/)\n",
            "- [Collapse Under the Empire](https://www.collapseundertheempire.com/post-rock)\n"
          ]
        }
      ]
    },
    {
      "cell_type": "markdown",
      "source": [
        "Dato che abbiamo fornito il nostro tool di memoria, possiamo procedere a chiedere informazioni partendo dallo stesso contesto"
      ],
      "metadata": {
        "id": "jx4x0m6Cfj_S"
      }
    },
    {
      "cell_type": "code",
      "source": [
        "# Specify an input\n",
        "messages = [HumanMessage(content=\"What do you mean with 'emphasis on dynamics and texture'?\")]\n",
        "\n",
        "# Run\n",
        "messages = react_graph.invoke({\"messages\": messages}, config)\n",
        "for m in messages['messages']:\n",
        "    m.pretty_print()"
      ],
      "metadata": {
        "colab": {
          "base_uri": "https://localhost:8080/"
        },
        "id": "P54ZZZaIfsB5",
        "outputId": "9b05877a-2cd2-4eee-ccff-a08905df13db"
      },
      "execution_count": 56,
      "outputs": [
        {
          "output_type": "stream",
          "name": "stdout",
          "text": [
            "================================\u001b[1m Human Message \u001b[0m=================================\n",
            "\n",
            "I want to discuss about the post-rock music genre. Tell me something about it\n",
            "==================================\u001b[1m Ai Message \u001b[0m==================================\n",
            "Tool Calls:\n",
            "  search_web (call_bX1hXAVAzuVcrzVSsRXFeJ3R)\n",
            " Call ID: call_bX1hXAVAzuVcrzVSsRXFeJ3R\n",
            "  Args:\n",
            "    query: post-rock music genre\n",
            "=================================\u001b[1m Tool Message \u001b[0m=================================\n",
            "Name: search_web\n",
            "\n",
            "<Document href=\"https://www.britannica.com/art/post-rock\"/>\n",
            "Post-rock | Ambient, Experimental, Instrumental | Britannica Ask the Chatbot Games & Quizzes History & Society Science & Tech Biographies Animals & Nature Geography & Travel Arts & Culture ProCon Money Videos post-rock Related Questions What is rock music? post-rock Share to social media https://www.britannica.com/art/post-rock Article History Table of Contents Ask the Chatbot a Question rock post-rock, genre of experimental rock music that combined elements of art rock, jazz, and alternative with electronic influences to create richly textured soundscapes. Embracing “quiet as the new loud,” post-rock shifted away from the hard, male-driven outbursts of rock music as that music became more commercialized; post-rock and other alternative genres were more independent and less commercially oriented. Britannica Quiz Sound Check: Musical Vocabulary Quiz\n",
            "</Document>\n",
            "\n",
            "---\n",
            "\n",
            "<Document href=\"https://www.reddit.com/r/postrock/comments/f2nvs0/definition_of_postrock/\"/>\n",
            "Feb 12, 2020 ... Post-rock: an umbrella term to describe the mostly instrumental music genre that uses rock instrumentation but disregards typical “rock” song\n",
            "</Document>\n",
            "\n",
            "---\n",
            "\n",
            "<Document href=\"https://www.collapseundertheempire.com/post-rock\"/>\n",
            "What is Post-Rock Music? Post-Rock Bands They may be musicians themselves, their music may be a part of this genre, their knowledge of theory and technique may explain why and when the use of certain effects transforms a rock song into a Post-Rock song. And how is Post-Rock composed on a musical level? Musical characteristics of Post-Rock Is Post-Rock simply \"instrumental music\"? What most bands of this generation have in common, is the fact that they did not plan on playing Post-Rock music. Calling Post-Rock instrumental music is not correct! Whereas music only seems to be accompanying vocals in other genres, vocals that are used in Post-Rock can be seen as an addition of another instrument to the soundscape.\n",
            "</Document>\n",
            "==================================\u001b[1m Ai Message \u001b[0m==================================\n",
            "\n",
            "# Description\n",
            "\n",
            "Post-rock is a genre of experimental rock music that emerged in the late 20th century. It combines elements of art rock, jazz, and alternative music with electronic influences to create richly textured soundscapes. The genre is known for its focus on atmosphere and texture over traditional rock song structures. Unlike typical rock music, which often features loud, explosive sounds and male-driven vocals, post-rock emphasizes quieter, more intricate compositions, sometimes described as \"quiet as the new loud.\"\n",
            "\n",
            "Post-rock often uses traditional rock instruments but disregards conventional rock song formats. The music is largely instrumental, though when vocals are used, they serve more as an additional instrument rather than the focal point of the song. This genre is characterized by its independence from commercial music trends, aligning more closely with alternative and experimental music movements.\n",
            "\n",
            "# Sources\n",
            "- [Britannica](https://www.britannica.com/art/post-rock)\n",
            "- [Reddit](https://www.reddit.com/r/postrock/comments/f2nvs0/definition_of_postrock/)\n",
            "- [Collapse Under the Empire](https://www.collapseundertheempire.com/post-rock)\n",
            "================================\u001b[1m Human Message \u001b[0m=================================\n",
            "\n",
            "What do you mean with 'emphasis on dynamics and texture'?\n",
            "==================================\u001b[1m Ai Message \u001b[0m==================================\n",
            "\n",
            "In the context of post-rock music, \"emphasis on dynamics and texture\" refers to the focus on the range and contrast of sounds, as well as the layering and quality of those sounds, to create an immersive auditory experience. Here's a breakdown of these concepts:\n",
            "\n",
            "1. **Dynamics**: This refers to the variation in loudness and intensity throughout a piece of music. In post-rock, dynamics are used to create emotional impact and progression within a song. The music might start softly and gradually build up to a powerful crescendo, then return to a softer section. This rise and fall in intensity can evoke different emotions and create a narrative-like experience without the need for lyrics.\n",
            "\n",
            "2. **Texture**: Texture in music refers to how different musical sounds and layers are combined. In post-rock, texture is often created through the use of multiple layers of instruments and sounds, such as guitars, synthesizers, and ambient noise. These layers can be interwoven to create a complex soundscape that engages listeners and allows them to explore the depth of the music. The use of effects like reverb and delay can add to the richness and spatial quality of the sound.\n",
            "\n",
            "Overall, the emphasis on dynamics and texture in post-rock means that the music is designed to be more about the journey and the atmosphere it creates, as opposed to following a typical verse-chorus structure with a focus on lyrics and melody.\n"
          ]
        }
      ]
    },
    {
      "cell_type": "markdown",
      "source": [
        "La risposta potrebbe essere fornita usando JSON oppure come semplice stringa da passare ai successivi building block.\n",
        "\n",
        "## LLM Call\n",
        "\n",
        "Proviamo ora a incapsulare la chiamata al modello in una funzione che può essere richiamata in modo generale da altri contesti"
      ],
      "metadata": {
        "id": "QVJB4qMjgXg2"
      }
    },
    {
      "cell_type": "code",
      "source": [
        "def llm_call(question: str, thread_id: str):\n",
        "    configurable = {\"configurable\": {\"thread_id\": thread_id}}\n",
        "    messages = [HumanMessage(content=question)]\n",
        "\n",
        "    react_graph.invoke({\"messages\": messages}, configurable)\n",
        "    state = react_graph.get_state(configurable)\n",
        "    return state[0]['messages'][-1].content\n",
        "    # return state"
      ],
      "metadata": {
        "id": "7Vy7m9c7gz2a"
      },
      "execution_count": 59,
      "outputs": []
    },
    {
      "cell_type": "markdown",
      "source": [
        "Proviamo ora a invocare il nostro augmented LLM\n",
        "\n",
        "**N.B.** Ricordiamo che lo stato finale è in formato MD, possiamo fare in modo di generare un JSON da passare agli elementi successivi"
      ],
      "metadata": {
        "id": "23JK2NyDhRD-"
      }
    },
    {
      "cell_type": "code",
      "source": [
        "from IPython.display import Markdown\n",
        "\n",
        "result = llm_call(\"Provide me an overview of the new Syrian leadership\", \"2\")\n",
        "\n",
        "Markdown(result)"
      ],
      "metadata": {
        "colab": {
          "base_uri": "https://localhost:8080/",
          "height": 318
        },
        "id": "Lt8YM456hXEG",
        "outputId": "b4e6bc82-0739-4e2d-c1ba-c8ba7d8156c8"
      },
      "execution_count": 61,
      "outputs": [
        {
          "output_type": "execute_result",
          "data": {
            "text/plain": [
              "<IPython.core.display.Markdown object>"
            ],
            "text/markdown": "# Description\n\nThe new leadership in Syria is led by Ahmed al-Sharaa, who has assumed a central role following the overthrow of Bashar al-Assad. Al-Sharaa is focused on fostering unity and holding accountable those who supported the Assad regime's lengthy rule. He has been actively engaging in diplomatic efforts, holding significant discussions with Arab diplomats, including those from Jordan and Qatar, to address Syria's reconstruction and explore future cooperation. This represents a notable shift in Syria's diplomatic relationships, especially with Qatar, which had not engaged at this level for 13 years.\n\nAhmed al-Sharaa is presenting a more conventional and approachable image, aiming to reassure the West that Syria under his leadership does not pose a threat. This new approach has prompted the U.S. to consider re-evaluating its designation of certain Syrian groups as terrorist organizations, contingent upon their perception of Sharaa's willingness to engage constructively.\n\n# Sources\n\n-  [NBC News](https://www.nbcnews.com/news/world/syria-sharaa-jolan-reassure-no-jihadi-rcna184478)\n-  [France24](https://www.france24.com/en/live-news/20241223-jordan-foreign-minister-holds-talks-with-syria-s-new-leader)\n-  [PBS News Hour](https://www.pbs.org/newshour/show/syrias-new-leaders-promise-unity-while-also-holding-assad-facilitators-accountable)"
          },
          "metadata": {},
          "execution_count": 61
        }
      ]
    }
  ]
}