{
  "nbformat": 4,
  "nbformat_minor": 0,
  "metadata": {
    "colab": {
      "provenance": [],
      "authorship_tag": "ABX9TyOdUsb7aus1YCIpjudn/GlZ",
      "include_colab_link": true
    },
    "kernelspec": {
      "name": "python3",
      "display_name": "Python 3"
    },
    "language_info": {
      "name": "python"
    }
  },
  "cells": [
    {
      "cell_type": "markdown",
      "metadata": {
        "id": "view-in-github",
        "colab_type": "text"
      },
      "source": [
        "<a href=\"https://colab.research.google.com/github/darkwings/ai-notebooks/blob/main/Augmented_LLM.ipynb\" target=\"_parent\"><img src=\"https://colab.research.google.com/assets/colab-badge.svg\" alt=\"Open In Colab\"/></a>"
      ]
    },
    {
      "cell_type": "markdown",
      "source": [
        "# Agent Workflows\n",
        "\n",
        "Partiamo da questo _clamoroso_ [articolo](https://www.anthropic.com/research/building-effective-agents) pubblicato da Anthropic.\n",
        "\n",
        "L'articolo pone enfasi sul provare a utilizzare soluzioni semplici, limitando il ricorso a frameworks.\n",
        "\n",
        "Sicuramente è vero, ma è altrettanto vero che in alcuni casi l'utilizzo di framework può essere di aiuto.\n",
        "\n",
        "In questo notebook si mostra una possibile implementazione tramite [LangGraph](https://www.langchain.com/langgraph) del building block **Augmented LLM**, ove al modello viene messo a disposizione una serie di tool.\n",
        "\n",
        "Il tool in questo caso è l'accesso al web per eseguire ricerche.\n",
        "\n",
        "Usiamo OpenAI e Tavily (alternativa BraveSearch), per i quali va fornita l'API key.\n",
        "\n",
        "Iniziamo dal setup"
      ],
      "metadata": {
        "id": "FwM_K8XATtbi"
      }
    },
    {
      "cell_type": "code",
      "source": [
        "%%capture --no-stderr\n",
        "%pip install --quiet -U langchain_openai langchain_core langchain_community langgraph"
      ],
      "metadata": {
        "id": "u4pvI8G9VkRi"
      },
      "execution_count": 9,
      "outputs": []
    },
    {
      "cell_type": "code",
      "source": [
        "import os, getpass\n",
        "\n",
        "def _set_env(var: str):\n",
        "    if not os.environ.get(var):\n",
        "        os.environ[var] = getpass.getpass(f\"{var}: \")\n",
        "\n",
        "_set_env(\"OPENAI_API_KEY\")"
      ],
      "metadata": {
        "colab": {
          "base_uri": "https://localhost:8080/"
        },
        "id": "t0g8gN9vVmVK",
        "outputId": "69e3b649-00e6-464d-c309-4814a70aded5"
      },
      "execution_count": 2,
      "outputs": [
        {
          "name": "stdout",
          "output_type": "stream",
          "text": [
            "OPENAI_API_KEY: ··········\n"
          ]
        }
      ]
    },
    {
      "cell_type": "code",
      "source": [
        "_set_env(\"TAVILY_API_KEY\")"
      ],
      "metadata": {
        "colab": {
          "base_uri": "https://localhost:8080/"
        },
        "id": "-bGvk5pIVrN4",
        "outputId": "24ca5486-60ce-4eea-b253-4f91448ebcde"
      },
      "execution_count": 3,
      "outputs": [
        {
          "name": "stdout",
          "output_type": "stream",
          "text": [
            "TAVILY_API_KEY: ··········\n"
          ]
        }
      ]
    },
    {
      "cell_type": "markdown",
      "source": [
        "Ora avviamo il modello"
      ],
      "metadata": {
        "id": "xQiULNZFWVYq"
      }
    },
    {
      "cell_type": "code",
      "source": [
        "from langchain_openai import ChatOpenAI\n",
        "\n",
        "llm = ChatOpenAI(model=\"gpt-4o\")"
      ],
      "metadata": {
        "id": "4l2I49mTWZwz"
      },
      "execution_count": 4,
      "outputs": []
    },
    {
      "cell_type": "markdown",
      "source": [
        "Definiamo il modello"
      ],
      "metadata": {
        "id": "aV9uBB5QZjLF"
      }
    },
    {
      "cell_type": "code",
      "source": [
        "import operator\n",
        "from pydantic import BaseModel, Field\n",
        "from typing import Annotated\n",
        "from langgraph.graph import MessagesState\n",
        "\n",
        "# The state of the graph\n",
        "class SearchState(MessagesState):\n",
        "  context: Annotated[list, operator.add]"
      ],
      "metadata": {
        "id": "e1vbEf2UXivV"
      },
      "execution_count": 11,
      "outputs": []
    },
    {
      "cell_type": "markdown",
      "source": [
        "Definiamo i tool di ricerca"
      ],
      "metadata": {
        "id": "Y60HNCPsZkzj"
      }
    },
    {
      "cell_type": "code",
      "source": [
        "# Web search tool\n",
        "from langchain_community.tools.tavily_search import TavilySearchResults\n",
        "tavily_search = TavilySearchResults(max_results=3)"
      ],
      "metadata": {
        "id": "2PNrHvN3ZnUX"
      },
      "execution_count": 13,
      "outputs": []
    },
    {
      "cell_type": "code",
      "source": [
        "def search_web(query: str):\n",
        "\n",
        "    \"\"\" Retrieve docs from web search\n",
        "\n",
        "        Arguments\n",
        "           query: the query string to use\n",
        "\n",
        "        Output\n",
        "           a list of documents to be used in the context\n",
        "    \"\"\"\n",
        "\n",
        "    # Search\n",
        "    search_docs = tavily_search.invoke(query)\n",
        "\n",
        "     # Format\n",
        "    formatted_search_docs = \"\\n\\n---\\n\\n\".join(\n",
        "        [\n",
        "            f'<Document href=\"{doc[\"url\"]}\"/>\\n{doc[\"content\"]}\\n</Document>'\n",
        "            for doc in search_docs\n",
        "        ]\n",
        "    )\n",
        "\n",
        "    return formatted_search_docs"
      ],
      "metadata": {
        "id": "N_sNXuXhaHNR"
      },
      "execution_count": 21,
      "outputs": []
    },
    {
      "cell_type": "markdown",
      "source": [
        "Abbiamo definito quindi il tool per eseguire ricerche sul web, ora completiamo il grafo"
      ],
      "metadata": {
        "id": "GDs6cBvxaxRv"
      }
    },
    {
      "cell_type": "code",
      "source": [
        "tools = [search_web]\n",
        "llm_with_tools = llm.bind_tools(tools)"
      ],
      "metadata": {
        "id": "v7GVs8Jea5g2"
      },
      "execution_count": 22,
      "outputs": []
    },
    {
      "cell_type": "code",
      "source": [
        "from langgraph.graph import MessagesState\n",
        "from langchain_core.messages import AIMessage, HumanMessage, SystemMessage\n",
        "\n",
        "# System message\n",
        "\n",
        "system_prompt = \"\"\"\n",
        "You are a helpful assistant.\n",
        "\n",
        "You are able to search the web to get the right answer to the question provided\n",
        "by the user.\n",
        "\n",
        "You should provide the final answer in markdown format and you MUST include the\n",
        "sources used to answer, showing the url of the web page retrieved by the search tool.\n",
        "\n",
        "Therefore, the answer should have the following format\n",
        "\n",
        "# Description\n",
        "\n",
        "# Sources\n",
        "-  [source1](link of source1)\n",
        "-  [source2](link of source1)\n",
        "\"\"\"\n",
        "sys_msg = SystemMessage(content=system_prompt)\n",
        "\n",
        "# Node\n",
        "def assistant(state: MessagesState):\n",
        "   return {\"messages\": [llm_with_tools.invoke([sys_msg] + state[\"messages\"])]}"
      ],
      "metadata": {
        "id": "2djGS-nic1cA"
      },
      "execution_count": 27,
      "outputs": []
    },
    {
      "cell_type": "code",
      "source": [
        "from langgraph.graph import START, StateGraph\n",
        "from langgraph.prebuilt import tools_condition, ToolNode\n",
        "from IPython.display import Image, display\n",
        "from langgraph.checkpoint.memory import MemorySaver\n",
        "\n",
        "# Graph\n",
        "builder = StateGraph(MessagesState)\n",
        "\n",
        "# Define nodes: these do the work\n",
        "builder.add_node(\"assistant\", assistant)\n",
        "builder.add_node(\"tools\", ToolNode(tools))\n",
        "\n",
        "# Define edges: these determine how the control flow moves\n",
        "builder.add_edge(START, \"assistant\")\n",
        "builder.add_conditional_edges(\n",
        "    \"assistant\",\n",
        "    # If the latest message (result) from assistant is a tool call -> tools_condition routes to tools\n",
        "    # If the latest message (result) from assistant is a not a tool call -> tools_condition routes to END\n",
        "    tools_condition,\n",
        ")\n",
        "builder.add_edge(\"tools\", \"assistant\")\n",
        "\n",
        "# Adding memory\n",
        "memory = MemorySaver()\n",
        "\n",
        "react_graph = builder.compile(checkpointer=memory)\n",
        "\n",
        "# Show\n",
        "display(Image(react_graph.get_graph(xray=True).draw_mermaid_png()))"
      ],
      "metadata": {
        "colab": {
          "base_uri": "https://localhost:8080/",
          "height": 266
        },
        "id": "KreKxaTxd6J6",
        "outputId": "ccd81db4-4d1e-4499-98cd-9a4853f58978"
      },
      "execution_count": 28,
      "outputs": [
        {
          "output_type": "display_data",
          "data": {
            "image/png": "[encoded data removed]",
            "text/plain": [
              "<IPython.core.display.Image object>"
            ]
          },
          "metadata": {}
        }
      ]
    },
    {
      "cell_type": "markdown",
      "source": [
        "Ora avviamo il nostro assistente, fornendo un `thread_id` per il checkpointing"
      ],
      "metadata": {
        "id": "hq8lC86EeZRm"
      }
    },
    {
      "cell_type": "code",
      "source": [
        "config = {\"configurable\": {\"thread_id\": \"1\"}}\n",
        "\n",
        "# Specify an input\n",
        "messages = [HumanMessage(content=\"I want to discuss about the post-rock music genre. Tell me something about it\")]\n",
        "\n",
        "# Run\n",
        "messages = react_graph.invoke({\"messages\": messages}, config)\n",
        "for m in messages['messages']:\n",
        "    m.pretty_print()"
      ],
      "metadata": {
        "colab": {
          "base_uri": "https://localhost:8080/"
        },
        "id": "0Y-ht_aJecj-",
        "outputId": "5aad0854-e045-443c-ce43-cdf8a2c07d5d"
      },
      "execution_count": 29,
      "outputs": [
        {
          "output_type": "stream",
          "name": "stdout",
          "text": [
            "================================\u001b[1m Human Message \u001b[0m=================================\n",
            "\n",
            "I want to discuss about the post-rock music genre. Tell me something about it\n",
            "==================================\u001b[1m Ai Message \u001b[0m==================================\n",
            "Tool Calls:\n",
            "  search_web (call_yMjLcPMqjyuAgtxENEccT69I)\n",
            " Call ID: call_yMjLcPMqjyuAgtxENEccT69I\n",
            "  Args:\n",
            "    query: post-rock music genre\n",
            "=================================\u001b[1m Tool Message \u001b[0m=================================\n",
            "Name: search_web\n",
            "\n",
            "<Document href=\"https://www.britannica.com/art/post-rock\"/>\n",
            "Post-rock | Ambient, Experimental, Instrumental | Britannica Ask the Chatbot Games & Quizzes History & Society Science & Tech Biographies Animals & Nature Geography & Travel Arts & Culture ProCon Money Videos post-rock Related Questions What is rock music? post-rock Share to social media https://www.britannica.com/art/post-rock Article History Table of Contents Ask the Chatbot a Question rock post-rock, genre of experimental rock music that combined elements of art rock, jazz, and alternative with electronic influences to create richly textured soundscapes. Embracing “quiet as the new loud,” post-rock shifted away from the hard, male-driven outbursts of rock music as that music became more commercialized; post-rock and other alternative genres were more independent and less commercially oriented. Britannica Quiz Sound Check: Musical Vocabulary Quiz\n",
            "</Document>\n",
            "\n",
            "---\n",
            "\n",
            "<Document href=\"https://www.reddit.com/r/postrock/comments/f2nvs0/definition_of_postrock/\"/>\n",
            "Feb 12, 2020 ... Post-rock: an umbrella term to describe the mostly instrumental music genre that uses rock instrumentation but disregards typical “rock” song\n",
            "</Document>\n",
            "\n",
            "---\n",
            "\n",
            "<Document href=\"https://www.collapseundertheempire.com/post-rock\"/>\n",
            "What is Post-Rock Music? Post-Rock Bands They may be musicians themselves, their music may be a part of this genre, their knowledge of theory and technique may explain why and when the use of certain effects transforms a rock song into a Post-Rock song. And how is Post-Rock composed on a musical level? Musical characteristics of Post-Rock Is Post-Rock simply \"instrumental music\"? What most bands of this generation have in common, is the fact that they did not plan on playing Post-Rock music. Calling Post-Rock instrumental music is not correct! Whereas music only seems to be accompanying vocals in other genres, vocals that are used in Post-Rock can be seen as an addition of another instrument to the soundscape.\n",
            "</Document>\n",
            "==================================\u001b[1m Ai Message \u001b[0m==================================\n",
            "\n",
            "# Description\n",
            "\n",
            "Post-rock is a genre of experimental rock music that blends elements from art rock, jazz, and alternative music, often incorporating electronic influences to create intricate and textured soundscapes. It is characterized by its departure from traditional rock structures, often favoring instrumental compositions and emphasizing atmosphere over traditional song formats. The genre typically eschews the conventional rock song structure, focusing instead on creating immersive and ambient sound experiences.\n",
            "\n",
            "The term \"post-rock\" encompasses a wide variety of sounds and styles, but it generally involves using rock instrumentation in unconventional ways. Guitars, drums, and bass are used not just to create rhythm and melody but to explore new sonic territories. Vocals, when present, are often treated as an additional instrument rather than the focal point of the music.\n",
            "\n",
            "One of the defining features of post-rock is its emphasis on dynamics and texture, often described as \"quiet being the new loud.\" This reflects a shift away from the loud, aggressive sounds of traditional rock to more nuanced and layered musical expressions.\n",
            "\n",
            "# Sources\n",
            "\n",
            "- [Britannica - Post-rock](https://www.britannica.com/art/post-rock)\n",
            "- [Collapse Under The Empire - What is Post-Rock Music?](https://www.collapseundertheempire.com/post-rock)\n"
          ]
        }
      ]
    },
    {
      "cell_type": "markdown",
      "source": [
        "Dato che abbiamo fornito il nostro tool di memoria, possiamo procedere a chiedere informazioni partendo dallo stesso contesto"
      ],
      "metadata": {
        "id": "jx4x0m6Cfj_S"
      }
    },
    {
      "cell_type": "code",
      "source": [
        "# Specify an input\n",
        "messages = [HumanMessage(content=\"What do you mean with 'emphasis on dynamics and texture'?\")]\n",
        "\n",
        "# Run\n",
        "messages = react_graph.invoke({\"messages\": messages}, config)\n",
        "for m in messages['messages']:\n",
        "    m.pretty_print()"
      ],
      "metadata": {
        "colab": {
          "base_uri": "https://localhost:8080/"
        },
        "id": "P54ZZZaIfsB5",
        "outputId": "978f4b2c-33db-4c22-c160-744ba96f84cc"
      },
      "execution_count": 30,
      "outputs": [
        {
          "output_type": "stream",
          "name": "stdout",
          "text": [
            "================================\u001b[1m Human Message \u001b[0m=================================\n",
            "\n",
            "I want to discuss about the post-rock music genre. Tell me something about it\n",
            "==================================\u001b[1m Ai Message \u001b[0m==================================\n",
            "Tool Calls:\n",
            "  search_web (call_yMjLcPMqjyuAgtxENEccT69I)\n",
            " Call ID: call_yMjLcPMqjyuAgtxENEccT69I\n",
            "  Args:\n",
            "    query: post-rock music genre\n",
            "=================================\u001b[1m Tool Message \u001b[0m=================================\n",
            "Name: search_web\n",
            "\n",
            "<Document href=\"https://www.britannica.com/art/post-rock\"/>\n",
            "Post-rock | Ambient, Experimental, Instrumental | Britannica Ask the Chatbot Games & Quizzes History & Society Science & Tech Biographies Animals & Nature Geography & Travel Arts & Culture ProCon Money Videos post-rock Related Questions What is rock music? post-rock Share to social media https://www.britannica.com/art/post-rock Article History Table of Contents Ask the Chatbot a Question rock post-rock, genre of experimental rock music that combined elements of art rock, jazz, and alternative with electronic influences to create richly textured soundscapes. Embracing “quiet as the new loud,” post-rock shifted away from the hard, male-driven outbursts of rock music as that music became more commercialized; post-rock and other alternative genres were more independent and less commercially oriented. Britannica Quiz Sound Check: Musical Vocabulary Quiz\n",
            "</Document>\n",
            "\n",
            "---\n",
            "\n",
            "<Document href=\"https://www.reddit.com/r/postrock/comments/f2nvs0/definition_of_postrock/\"/>\n",
            "Feb 12, 2020 ... Post-rock: an umbrella term to describe the mostly instrumental music genre that uses rock instrumentation but disregards typical “rock” song\n",
            "</Document>\n",
            "\n",
            "---\n",
            "\n",
            "<Document href=\"https://www.collapseundertheempire.com/post-rock\"/>\n",
            "What is Post-Rock Music? Post-Rock Bands They may be musicians themselves, their music may be a part of this genre, their knowledge of theory and technique may explain why and when the use of certain effects transforms a rock song into a Post-Rock song. And how is Post-Rock composed on a musical level? Musical characteristics of Post-Rock Is Post-Rock simply \"instrumental music\"? What most bands of this generation have in common, is the fact that they did not plan on playing Post-Rock music. Calling Post-Rock instrumental music is not correct! Whereas music only seems to be accompanying vocals in other genres, vocals that are used in Post-Rock can be seen as an addition of another instrument to the soundscape.\n",
            "</Document>\n",
            "==================================\u001b[1m Ai Message \u001b[0m==================================\n",
            "\n",
            "# Description\n",
            "\n",
            "Post-rock is a genre of experimental rock music that blends elements from art rock, jazz, and alternative music, often incorporating electronic influences to create intricate and textured soundscapes. It is characterized by its departure from traditional rock structures, often favoring instrumental compositions and emphasizing atmosphere over traditional song formats. The genre typically eschews the conventional rock song structure, focusing instead on creating immersive and ambient sound experiences.\n",
            "\n",
            "The term \"post-rock\" encompasses a wide variety of sounds and styles, but it generally involves using rock instrumentation in unconventional ways. Guitars, drums, and bass are used not just to create rhythm and melody but to explore new sonic territories. Vocals, when present, are often treated as an additional instrument rather than the focal point of the music.\n",
            "\n",
            "One of the defining features of post-rock is its emphasis on dynamics and texture, often described as \"quiet being the new loud.\" This reflects a shift away from the loud, aggressive sounds of traditional rock to more nuanced and layered musical expressions.\n",
            "\n",
            "# Sources\n",
            "\n",
            "- [Britannica - Post-rock](https://www.britannica.com/art/post-rock)\n",
            "- [Collapse Under The Empire - What is Post-Rock Music?](https://www.collapseundertheempire.com/post-rock)\n",
            "================================\u001b[1m Human Message \u001b[0m=================================\n",
            "\n",
            "What do you mean with 'emphasis on dynamics and texture'?\n",
            "==================================\u001b[1m Ai Message \u001b[0m==================================\n",
            "\n",
            "In the context of post-rock music, \"emphasis on dynamics and texture\" refers to the way the music focuses on changes in volume, intensity, and the layering of sounds to create a rich and immersive listening experience. Here’s a breakdown of these concepts:\n",
            "\n",
            "1. **Dynamics**:\n",
            "   - **Dynamics** in music refers to the variations in loudness between notes or phrases. In post-rock, dynamics are often used to create a dramatic and emotional impact. Songs may start quietly and gradually build up to a loud, intense climax, or they may fluctuate between soft and loud passages, creating a sense of tension and release.\n",
            "   - This dynamic range allows musicians to convey different moods and emotions, making the music feel more expressive and engaging.\n",
            "\n",
            "2. **Texture**:\n",
            "   - **Texture** in music describes how the melodic, rhythmic, and harmonic materials are combined in a composition, thus determining the overall quality of sound. In post-rock, texture is created through the layering of different instrumental sounds, effects, and sometimes vocals.\n",
            "   - Instruments may be used in unconventional ways, with effects like reverb, delay, and distortion adding depth and complexity to the sound. The focus on texture means that the music often feels more atmospheric and cinematic, with each layer contributing to the overall soundscape.\n",
            "\n",
            "Overall, the emphasis on dynamics and texture in post-rock allows the music to transcend traditional song structures, focusing on creating an immersive and emotionally resonant experience for the listener.\n"
          ]
        }
      ]
    },
    {
      "cell_type": "markdown",
      "source": [
        "La risposta potrebbe essere fornita usando JSON oppure come semplice stringa da passare ai successivi building block.\n",
        "\n",
        "Proviamo ora a incapsulare la chiamata al modello in una funzione che può essere richiamata in modo generale da altri contesti"
      ],
      "metadata": {
        "id": "QVJB4qMjgXg2"
      }
    },
    {
      "cell_type": "code",
      "source": [
        "def llm_call(question: str, thread_id: str):\n",
        "    configurable = {\"configurable\": {\"thread_id\": thread_id}}\n",
        "    messages = [HumanMessage(content=question)]\n",
        "\n",
        "    react_graph.invoke({\"messages\": messages}, configurable)\n",
        "    state = react_graph.get_state(configurable)\n",
        "    # return state['messages'][-1].content\n",
        "    return state"
      ],
      "metadata": {
        "id": "7Vy7m9c7gz2a"
      },
      "execution_count": 42,
      "outputs": []
    },
    {
      "cell_type": "markdown",
      "source": [
        "Proviamo ora a invocare il nostro augmented llm"
      ],
      "metadata": {
        "id": "23JK2NyDhRD-"
      }
    },
    {
      "cell_type": "code",
      "source": [
        "result = llm_call(\"Provide me an overview of the new Syrian leadership\", \"2\")\n",
        "result"
      ],
      "metadata": {
        "colab": {
          "base_uri": "https://localhost:8080/"
        },
        "id": "Lt8YM456hXEG",
        "outputId": "c2df9b89-ae48-438d-dbca-3478f60c167b"
      },
      "execution_count": 43,
      "outputs": [
        {
          "output_type": "execute_result",
          "data": {
            "text/plain": [
              "StateSnapshot(values={'messages': [HumanMessage(content='Provide me an overview of the new Syrian leadership', additional_kwargs={}, response_metadata={}, id='1c36ca2c-ae27-4821-b83c-7bba34f88d63'), AIMessage(content='', additional_kwargs={'tool_calls': [{'id': 'call_Vvl9KGs69ps1VDnjiejjMFzQ', 'function': {'arguments': '{\"query\":\"new Syrian leadership 2023\"}', 'name': 'search_web'}, 'type': 'function'}], 'refusal': None}, response_metadata={'token_usage': {'completion_tokens': 20, 'prompt_tokens': 176, 'total_tokens': 196, 'completion_tokens_details': {'accepted_prediction_tokens': 0, 'audio_tokens': 0, 'reasoning_tokens': 0, 'rejected_prediction_tokens': 0}, 'prompt_tokens_details': {'audio_tokens': 0, 'cached_tokens': 0}}, 'model_name': 'gpt-4o-2024-08-06', 'system_fingerprint': 'fp_5f20662549', 'finish_reason': 'tool_calls', 'logprobs': None}, id='run-ebba4526-10b2-4320-b35e-44421dc98b6f-0', tool_calls=[{'name': 'search_web', 'args': {'query': 'new Syrian leadership 2023'}, 'id': 'call_Vvl9KGs69ps1VDnjiejjMFzQ', 'type': 'tool_call'}], usage_metadata={'input_tokens': 176, 'output_tokens': 20, 'total_tokens': 196, 'input_token_details': {'audio': 0, 'cache_read': 0}, 'output_token_details': {'audio': 0, 'reasoning': 0}}), ToolMessage(content='<Document href=\"https://www.nbcnews.com/news/world/syria-sharaa-jolan-reassure-no-jihadi-rcna184478\"/>\\nNBC News Now As U.S. diplomats arrived in Damascus on Friday,\\xa0Syria\\'s de facto new leader\\xa0Ahmed al-Sharaa will likely have greeted them\\xa0with a clear message: Under his rule, there will be no threat to the West. Sharaa has “been embracing a more conventional image,” Joze Pelayo, an associate director at the Atlantic Council’s Scowcroft Middle East Security Initiative, told NBC News. The Biden administration has said it is weighing whether to remove HTS from its list of terrorist organizations — but that will depend on whether it views Sharaa and his new leadership group as one that it can engage with.\\n</Document>\\n\\n---\\n\\n<Document href=\"https://www.longwarjournal.org/archives/2024/12/profiles-of-new-syrian-military-leadership.php\"/>\\nIn May 2023, Gharib was appointed general commander of the Sham Front, succeeding Hussam Yassin (Abu Yassin) after internal disputes. Yassin,\\n</Document>\\n\\n---\\n\\n<Document href=\"https://www.npr.org/2024/12/27/g-s1-40144/syria-israel-relations-hts-damascus-governor\"/>\\nNew leaders in Damascus call for cordial Syria ties with a resistant Israel ... Governor of Damascus, Maher Muhammad Marwan, appointed by the new\\n</Document>', name='search_web', id='2d1838aa-ba4d-45d3-8f5b-84d09fd11af3', tool_call_id='call_Vvl9KGs69ps1VDnjiejjMFzQ'), AIMessage(content='# Description\\n\\nIn 2023, the leadership in Syria saw significant changes, particularly with Ahmed al-Sharaa emerging as a prominent figure. He has been described as embracing a more conventional image, and his leadership is seen as potentially engaging with Western countries. There is ongoing consideration by the U.S. regarding the status of HTS (Hayat Tahrir al-Sham) on its list of terrorist organizations, which hinges on how Sharaa and his leadership are perceived in terms of engagement potential with the West.\\n\\nFurthermore, there have been shifts in military leadership within Syria. For example, Gharib was appointed as the general commander of the Sham Front in May 2023, succeeding Hussam Yassin (Abu Yassin) after internal disputes.\\n\\nAdditionally, Maher Muhammad Marwan was appointed as the Governor of Damascus, and the new leadership has expressed a desire for improved relations with Israel, although these efforts face resistance.\\n\\n# Sources\\n- [NBC News](https://www.nbcnews.com/news/world/syria-sharaa-jolan-reassure-no-jihadi-rcna184478)\\n- [Long War Journal](https://www.longwarjournal.org/archives/2024/12/profiles-of-new-syrian-military-leadership.php)\\n- [NPR](https://www.npr.org/2024/12/27/g-s1-40144/syria-israel-relations-hts-damascus-governor)', additional_kwargs={'refusal': None}, response_metadata={'token_usage': {'completion_tokens': 298, 'prompt_tokens': 508, 'total_tokens': 806, 'completion_tokens_details': {'accepted_prediction_tokens': 0, 'audio_tokens': 0, 'reasoning_tokens': 0, 'rejected_prediction_tokens': 0}, 'prompt_tokens_details': {'audio_tokens': 0, 'cached_tokens': 0}}, 'model_name': 'gpt-4o-2024-08-06', 'system_fingerprint': 'fp_5f20662549', 'finish_reason': 'stop', 'logprobs': None}, id='run-b1f24c03-9533-4aee-959a-917ac21ab094-0', usage_metadata={'input_tokens': 508, 'output_tokens': 298, 'total_tokens': 806, 'input_token_details': {'audio': 0, 'cache_read': 0}, 'output_token_details': {'audio': 0, 'reasoning': 0}}), HumanMessage(content='Provide me an overview of the new Syrian leadership', additional_kwargs={}, response_metadata={}, id='d02defa9-8a63-4294-8089-d5b841683fd2'), AIMessage(content='', additional_kwargs={'tool_calls': [{'id': 'call_UOAhNr4z5vxed1NXdBjmqV11', 'function': {'arguments': '{\"query\":\"Syrian leadership changes 2023\"}', 'name': 'search_web'}, 'type': 'function'}], 'refusal': None}, response_metadata={'token_usage': {'completion_tokens': 21, 'prompt_tokens': 821, 'total_tokens': 842, 'completion_tokens_details': {'accepted_prediction_tokens': 0, 'audio_tokens': 0, 'reasoning_tokens': 0, 'rejected_prediction_tokens': 0}, 'prompt_tokens_details': {'audio_tokens': 0, 'cached_tokens': 0}}, 'model_name': 'gpt-4o-2024-08-06', 'system_fingerprint': 'fp_5f20662549', 'finish_reason': 'tool_calls', 'logprobs': None}, id='run-1e14a362-2cd8-4436-ab9c-c6b88b00e3d1-0', tool_calls=[{'name': 'search_web', 'args': {'query': 'Syrian leadership changes 2023'}, 'id': 'call_UOAhNr4z5vxed1NXdBjmqV11', 'type': 'tool_call'}], usage_metadata={'input_tokens': 821, 'output_tokens': 21, 'total_tokens': 842, 'input_token_details': {'audio': 0, 'cache_read': 0}, 'output_token_details': {'audio': 0, 'reasoning': 0}}), ToolMessage(content='<Document href=\"https://www.euronews.com/2024/12/09/syria-looks-to-carve-a-new-future-after-abrupt-end-to-president-bashar-al-assads-24-year-r\"/>\\nSyria looks to carve new future after abrupt end to Bashar al-Assad\\'s 24-year reign | Euronews Syria looks to carve new future after abrupt end to Bashar al-Assad\\'s 24-year reign A mountainous task ahead as Syria, battered by almost 14-years of division and fighting under a brutal civil war looks ahead to shape its new future after the end of Bashar al-Assad\\'s 24-year rule. Al-Golani, whose group led other opposition groups in the 12-day offensive aimed at dethroning Assad, appointed Syria’s former Prime Minister, Mohammed Ghazi al-Jalali to oversee state institutions and ensure the continuity of social services until they are handed over. The Syrian government collapsed early on Sunday, marking an end to the Assad family\\'s 50-year rule, after a surprise rebel offensive quickly swept through government-held areas and recaptured the capital in just 12-days.\\n</Document>\\n\\n---\\n\\n<Document href=\"https://commonslibrary.parliament.uk/research-briefings/cbp-10161/\"/>\\nDec 19, 2024 ... In December 2024, the Russian Foreign Ministry announced that President Bashar al-Assad, who had governed Syria since 2000, had resigned and he\\n</Document>\\n\\n---\\n\\n<Document href=\"https://carnegieendowment.org/middle-east/diwan/2024/12/bashar-al-assad-of-syria-has-been-ousted-from-power?lang=en\"/>\\nBashar al-Assad of Syria Has Been Ousted From Power | Carnegie Endowment for International Peace Bashar al-Assad of Syria Has Been Ousted From Power Diwan,\\xa0a blog from the Carnegie Endowment for International Peace’s Middle East Program and the Malcolm H. Bashar al-Assad was long seen as the primary obstacle to a political transition in Syria. Regionally, this marks the end of an era in which the dominant power in Damascus was Iran, whose conflict with Israel shaped developments in Syria. It used the opportunity of the regional uprisings to expand its social, economic, and political influence and establish a corridor to the Mediterranean that encompassed Iraq, Syria and Lebanon. Diwan,\\xa0a blog from the Carnegie Endowment for International Peace’s Middle East Program and the Malcolm H.\\n</Document>', name='search_web', id='39891fb7-e2f0-4d67-8f5f-1de3c288c762', tool_call_id='call_UOAhNr4z5vxed1NXdBjmqV11'), AIMessage(content=\"# Description\\n\\nIn 2023, Syria underwent significant political changes with the end of Bashar al-Assad's 24-year rule. This marked the conclusion of the Assad family's 50-year dominance in Syria following a swift 12-day rebel offensive that recaptured the capital and led to the collapse of the Syrian government. Former Prime Minister Mohammed Ghazi al-Jalali was appointed to oversee state institutions and ensure the continuity of social services during the transition.\\n\\nThe ousting of Bashar al-Assad, who had been a major impediment to political transitions in Syria, represents a pivotal moment in the country's history. The new leadership faces the challenging task of shaping Syria's future after years of civil war and division.\\n\\n# Sources\\n- [Euronews](https://www.euronews.com/2024/12/09/syria-looks-to-carve-a-new-future-after-abrupt-end-to-president-bashar-al-assads-24-year-r)\\n- [Carnegie Endowment for International Peace](https://carnegieendowment.org/middle-east/diwan/2024/12/bashar-al-assad-of-syria-has-been-ousted-from-power?lang=en)\", additional_kwargs={'refusal': None}, response_metadata={'token_usage': {'completion_tokens': 250, 'prompt_tokens': 1362, 'total_tokens': 1612, 'completion_tokens_details': {'accepted_prediction_tokens': 0, 'audio_tokens': 0, 'reasoning_tokens': 0, 'rejected_prediction_tokens': 0}, 'prompt_tokens_details': {'audio_tokens': 0, 'cached_tokens': 0}}, 'model_name': 'gpt-4o-2024-08-06', 'system_fingerprint': 'fp_5f20662549', 'finish_reason': 'stop', 'logprobs': None}, id='run-b097e4e0-b628-4018-9737-d21a0f4162bc-0', usage_metadata={'input_tokens': 1362, 'output_tokens': 250, 'total_tokens': 1612, 'input_token_details': {'audio': 0, 'cache_read': 0}, 'output_token_details': {'audio': 0, 'reasoning': 0}}), HumanMessage(content='Provide me an overview of the new Syrian leadership', additional_kwargs={}, response_metadata={}, id='2102ba89-1ce6-41e1-af3a-ff5f640f4ab2'), AIMessage(content='', additional_kwargs={'tool_calls': [{'id': 'call_8vR98T7sQOErG5eCIrivuKBl', 'function': {'arguments': '{\"query\":\"current Syrian leadership 2023\"}', 'name': 'search_web'}, 'type': 'function'}], 'refusal': None}, response_metadata={'token_usage': {'completion_tokens': 20, 'prompt_tokens': 1627, 'total_tokens': 1647, 'completion_tokens_details': {'accepted_prediction_tokens': 0, 'audio_tokens': 0, 'reasoning_tokens': 0, 'rejected_prediction_tokens': 0}, 'prompt_tokens_details': {'audio_tokens': 0, 'cached_tokens': 1536}}, 'model_name': 'gpt-4o-2024-08-06', 'system_fingerprint': 'fp_5f20662549', 'finish_reason': 'tool_calls', 'logprobs': None}, id='run-23c2ba74-0af8-4df4-8e29-de722a8460f9-0', tool_calls=[{'name': 'search_web', 'args': {'query': 'current Syrian leadership 2023'}, 'id': 'call_8vR98T7sQOErG5eCIrivuKBl', 'type': 'tool_call'}], usage_metadata={'input_tokens': 1627, 'output_tokens': 20, 'total_tokens': 1647, 'input_token_details': {'audio': 0, 'cache_read': 1536}, 'output_token_details': {'audio': 0, 'reasoning': 0}}), ToolMessage(content='<Document href=\"https://en.wikipedia.org/wiki/President_of_Syria\"/>\\nContents\\nPresident of Syria\\nMember State of the Arab League\\nAsia portal\\nHistory portal\\nThe president of Syria (Arabic: رئيس سوريا), officially the president of the Syrian Arab Republic (Arabic: رئيس الجمهورية العربية السورية), is the head of state of the Syrian Arab Republic. They appoint and dismiss the prime minister and other members of the Council of Ministers (the cabinet) and military officers.[2] Bashar al-Assad is the 19th and current president of Syria. In response to riots, the Syrian Constitution of 1973 was amended to stipulate that Islam was the religion of the president.[7]\\n Article 84 of Syria\\'s 2012 constitution requires that candidates for the presidency must:[3]\\nFurther eligibility requirements in the 2012 constitution include:[3]\\nPowers and removal[edit]\\n Unlike previous constitutions, this one did not require that the president of Syria must be a Muslim, leading to fierce demonstrations in Hama, Homs and Aleppo organized by the Muslim Brotherhood and the ulama.\\n</Document>\\n\\n---\\n\\n<Document href=\"https://www.aljazeera.com/news/2024/12/8/syrias-bashar-al-assad-the-president-who-lost-his-homeland\"/>\\nSyria’s Bashar al-Assad: The president who lost his homeland | Syria\\'s War News | Al Jazeera Syria’s Bashar al-Assad: The president who lost his homeland After more than 13 years of war, hundreds of thousands of people killed and millions displaced, the 24-year rule of Syrian President Bashar al-Assad is over. Sign up for Al Jazeera In several elections held over the years, including during the war in government-controlled areas, official results showed al-Assad winning the overwhelming majority of the vote. “For Syrians, [al-Assad] will always be remembered as the president who exhibited poor leadership, destroyed his country, and displaced his own people,” said Syrian policy analyst Marwan Kabalan.\\n</Document>\\n\\n---\\n\\n<Document href=\"https://en.wikipedia.org/wiki/Bashar_al-Assad\"/>\\nIt remains unclear whether the arrest was due to actual crimes.[141]\\nAfter a string of government defeats in northern and southern Syria, analysts noted growing government instability coupled with continued waning support for the Assad government among its core Alawite base of support,[142] and that there were increasing reports of Assad relatives, Alawites, and businessmen fleeing Damascus for Latakia and foreign countries.[143][144] Intelligence chief Ali Mamlouk was placed under house arrest sometime in April and stood accused of plotting with Assad\\'s exiled uncle Rifaat al-Assad to replace Bashar as president.[145] Further high-profile deaths included the commanders of the Fourth Armoured Division, the Belli military airbase, the army\\'s special forces and of the First Armoured Division, with an errant air strike during the Palmyra offensive killing two officers who were reportedly related to Assad.[146]\\nOn 4 September 2015, when prospects of Assad\\'s survival looked bleak, Russian President Vladimir Putin said that Russia was providing the Assad government with sufficiently \"serious\" help: with both logistical and military support.[147][148][149] Shortly after the start of direct military intervention by Russia on 30 September 2015 at the formal request of the Syrian government, Putin stated the military operation had been thoroughly prepared in advance and defined Russia\\'s goal in Syria as \"stabilising the legitimate power in Syria and creating the conditions for political compromise\".[150] The BBC reported in December 2005 that \"Damascus has strongly denied involvement in the car bomb which killed Hariri in February\".[89]\\nOn 27 May 2007, Assad was approved for another seven-year term in a referendum on his presidency, with 97.6% of the votes supporting his continued leadership.[90][91][92] Opposition parties were not allowed in the country and Assad was the only candidate in the referendum.[55] Syria\\'s opposition parties under the umbrella of Damascus Declaration denounced the elections as illegitimate and part of the regime\\'s strategy to sustain the \"totalitarian system\".[93][94] Elections in Syria are officially designated as the event of \"renewing the pledge of allegiance\" to the Assads and voting is enforced as a compulsory duty on every citizen. Following global outrage against Assad regime\\'s deadly crackdown on the Arab Spring protestors which led to the Syrian civil war, scorched-earth policy against the civilian populations resulting in more than half a million deaths, mass murders and systematic deployment of chemical warfare throughout the conflict; Bashar al-Assad became an international pariah and numerous world leaders have urged him to resign.[357][356][358][359]\\nSince 2011, Bashar al-Assad has lost recognition from several international organizations such as the Arab League (in 2011),[360] Union for the Mediterranean (in 2011)[361] and Organization of Islamic Co-operation (in 2012).[362][363] United States, European Union, Turkey, Arab League and various countries began enforcing broad sets of sanctions against Syrian regime from 2011, with the objective of forcing Assad to resign and assist in a political solution to the crisis.[364]\\nInternational bodies have criticized one-sided elections organized by Assad government\\nduring the conflict. The conclusions are submitted to the United Nations bodies.[293]\\nIn April 2021, Syria was suspended from OPCW through the public vote of member states, for not co-operating with the body\\'s Investigation Identification Team (IIT) and violating the Chemical Weapons Convention.[294][295][296] Findings of another investigation report published the OPCW-IIT in July 2021 concluded that the Syrian regime had engaged in confirmed chemical attacks at least 17 times, out of the reported 77 chemical weapon attacks attributed to Assadist forces.[297][298] As of March 2023, independent United Nations inquiry commissions have confirmed at least nine chemical attacks committed by forces loyal to the Assad government.[299][300]\\nThe deadliest chemical attack have been the Ghouta chemical attacks, when Assad government forces launched the nerve agent sarin into civilian areas during its brutal Siege of Eastern Ghouta in early hours of 21 August 2013. Announcement of the results are followed by pro-government rallies conducted across the country extolling the regime, wherein citizens declare their \"devotion\" to the President and celebrate \"the virtues\" of Assad dynasty.[95][96][97]\\nSyria began developing a covert nuclear weapons programme with assistance of North Korea during the 2000s, but its suspected nuclear reactor was destroyed by the Israeli Air Force during Operation Outside the Box in September 2007.[98][99][100]\\nDuring the Syrian civil war\\nProtests in Syria began on 26 January 2011 following the Arab Spring\\nprotests that called for political reforms and the reinstatement of civil rights, as well as an end to the state of emergency which had been in place since 1963.[101]\\n</Document>', name='search_web', id='c1e98344-38ff-40bd-aadd-dbe105291a15', tool_call_id='call_8vR98T7sQOErG5eCIrivuKBl'), AIMessage(content=\"# Description\\n\\nAs of 2023, Bashar al-Assad is still recognized as the President of Syria, although his leadership has been marked by significant domestic and international challenges. Assad's presidency has been characterized by a lengthy civil war, which began in 2011 following the Arab Spring protests. These protests called for political reforms and the reinstatement of civil rights in Syria.\\n\\nThroughout his presidency, Bashar al-Assad has faced widespread condemnation for his handling of the conflict, including accusations of human rights violations and the use of chemical weapons. This has led to Syria's suspension from several international organizations and the imposition of sanctions by the United States, European Union, and other entities.\\n\\nDespite these challenges, Assad has maintained his position, largely due to support from allies like Russia, which has provided military and logistical assistance. Elections held under Assad's rule have been criticized as illegitimate, with opposition parties often barred from participating.\\n\\nThe political landscape in Syria remains complex, with ongoing instability and significant humanitarian concerns affecting the country's future.\\n\\n# Sources\\n- [Wikipedia - President of Syria](https://en.wikipedia.org/wiki/President_of_Syria)\\n- [Al Jazeera - Bashar al-Assad: The President Who Lost His Homeland](https://www.aljazeera.com/news/2024/12/8/syrias-bashar-al-assad-the-president-who-lost-his-homeland)\", additional_kwargs={'refusal': None}, response_metadata={'token_usage': {'completion_tokens': 286, 'prompt_tokens': 3099, 'total_tokens': 3385, 'completion_tokens_details': {'accepted_prediction_tokens': 0, 'audio_tokens': 0, 'reasoning_tokens': 0, 'rejected_prediction_tokens': 0}, 'prompt_tokens_details': {'audio_tokens': 0, 'cached_tokens': 1536}}, 'model_name': 'gpt-4o-2024-08-06', 'system_fingerprint': 'fp_5f20662549', 'finish_reason': 'stop', 'logprobs': None}, id='run-4a7d66f2-6c63-4bf9-b466-5b6b5db6dd76-0', usage_metadata={'input_tokens': 3099, 'output_tokens': 286, 'total_tokens': 3385, 'input_token_details': {'audio': 0, 'cache_read': 1536}, 'output_token_details': {'audio': 0, 'reasoning': 0}}), HumanMessage(content='Provide me an overview of the new Syrian leadership', additional_kwargs={}, response_metadata={}, id='a228ed6f-2f24-4fdc-b447-b46b9b9913a5'), AIMessage(content='', additional_kwargs={'tool_calls': [{'id': 'call_sB6Uj9fv8HNhOHMQbXPTCteW', 'function': {'arguments': '{\"query\":\"Syrian leadership changes 2023\"}', 'name': 'search_web'}, 'type': 'function'}], 'refusal': None}, response_metadata={'token_usage': {'completion_tokens': 21, 'prompt_tokens': 3400, 'total_tokens': 3421, 'completion_tokens_details': {'accepted_prediction_tokens': 0, 'audio_tokens': 0, 'reasoning_tokens': 0, 'rejected_prediction_tokens': 0}, 'prompt_tokens_details': {'audio_tokens': 0, 'cached_tokens': 3328}}, 'model_name': 'gpt-4o-2024-08-06', 'system_fingerprint': 'fp_5f20662549', 'finish_reason': 'tool_calls', 'logprobs': None}, id='run-c2b5c7f8-5d2d-472e-b494-4b5f232f80ba-0', tool_calls=[{'name': 'search_web', 'args': {'query': 'Syrian leadership changes 2023'}, 'id': 'call_sB6Uj9fv8HNhOHMQbXPTCteW', 'type': 'tool_call'}], usage_metadata={'input_tokens': 3400, 'output_tokens': 21, 'total_tokens': 3421, 'input_token_details': {'audio': 0, 'cache_read': 3328}, 'output_token_details': {'audio': 0, 'reasoning': 0}}), ToolMessage(content='<Document href=\"https://www.nbcnews.com/news/world/syria-school-curriculum-changes-islamist-rebels-assad-rcna186078\"/>\\nSome of the changes were less surprising, such as removing all references to ousted dictator Bashar al-Assad and his late father, Hafez al-Assad\\n</Document>\\n\\n---\\n\\n<Document href=\"https://www.reuters.com/world/middle-east/syria-rebels-celebrate-captured-homs-set-sights-damascus-2024-12-07/\"/>\\nThe Syrian rebel coalition said it was working to complete the transfer of power to a transitional governing body with executive powers. \"The\\n</Document>\\n\\n---\\n\\n<Document href=\"https://carnegieendowment.org/middle-east/diwan/2024/12/bashar-al-assad-of-syria-has-been-ousted-from-power?lang=en\"/>\\nBashar al-Assad of Syria Has Been Ousted From Power | Carnegie Endowment for International Peace Bashar al-Assad of Syria Has Been Ousted From Power Diwan,\\xa0a blog from the Carnegie Endowment for International Peace’s Middle East Program and the Malcolm H. Bashar al-Assad was long seen as the primary obstacle to a political transition in Syria. Regionally, this marks the end of an era in which the dominant power in Damascus was Iran, whose conflict with Israel shaped developments in Syria. It used the opportunity of the regional uprisings to expand its social, economic, and political influence and establish a corridor to the Mediterranean that encompassed Iraq, Syria and Lebanon. Diwan,\\xa0a blog from the Carnegie Endowment for International Peace’s Middle East Program and the Malcolm H.\\n</Document>', name='search_web', id='8d0e8773-c63a-4df6-a778-602568e62639', tool_call_id='call_sB6Uj9fv8HNhOHMQbXPTCteW'), AIMessage(content=\"# Description\\n\\nIn 2023, Syria experienced a significant political change with the ousting of Bashar al-Assad, who had been a central figure in Syrian politics for over two decades. Assad's removal marked the end of the Assad family's 50-year rule over Syria. This transition is part of a broader effort by a coalition of Syrian rebels to establish a transitional governing body with executive powers.\\n\\nThe shift in leadership is seen as a crucial step towards political transition in Syria, ending a period where Iran had significant influence in the region through its alliance with the Assad government. The newly formed transitional governing body is tasked with steering Syria towards a new political future, focusing on stability and rebuilding the nation after years of conflict.\\n\\n# Sources\\n- [Carnegie Endowment for International Peace](https://carnegieendowment.org/middle-east/diwan/2024/12/bashar-al-assad-of-syria-has-been-ousted-from-power?lang=en)\\n- [Reuters](https://www.reuters.com/world/middle-east/syria-rebels-celebrate-captured-homs-set-sights-damascus-2024-12-07/)\", additional_kwargs={'refusal': None}, response_metadata={'token_usage': {'completion_tokens': 239, 'prompt_tokens': 3778, 'total_tokens': 4017, 'completion_tokens_details': {'accepted_prediction_tokens': 0, 'audio_tokens': 0, 'reasoning_tokens': 0, 'rejected_prediction_tokens': 0}, 'prompt_tokens_details': {'audio_tokens': 0, 'cached_tokens': 0}}, 'model_name': 'gpt-4o-2024-08-06', 'system_fingerprint': 'fp_5f20662549', 'finish_reason': 'stop', 'logprobs': None}, id='run-70322562-02d9-4323-9339-184d46136f80-0', usage_metadata={'input_tokens': 3778, 'output_tokens': 239, 'total_tokens': 4017, 'input_token_details': {'audio': 0, 'cache_read': 0}, 'output_token_details': {'audio': 0, 'reasoning': 0}})]}, next=(), config={'configurable': {'thread_id': '2', 'checkpoint_ns': '', 'checkpoint_id': '1efcac90-617f-6381-8012-94895816c8ad'}}, metadata={'source': 'loop', 'writes': {'assistant': {'messages': [AIMessage(content=\"# Description\\n\\nIn 2023, Syria experienced a significant political change with the ousting of Bashar al-Assad, who had been a central figure in Syrian politics for over two decades. Assad's removal marked the end of the Assad family's 50-year rule over Syria. This transition is part of a broader effort by a coalition of Syrian rebels to establish a transitional governing body with executive powers.\\n\\nThe shift in leadership is seen as a crucial step towards political transition in Syria, ending a period where Iran had significant influence in the region through its alliance with the Assad government. The newly formed transitional governing body is tasked with steering Syria towards a new political future, focusing on stability and rebuilding the nation after years of conflict.\\n\\n# Sources\\n- [Carnegie Endowment for International Peace](https://carnegieendowment.org/middle-east/diwan/2024/12/bashar-al-assad-of-syria-has-been-ousted-from-power?lang=en)\\n- [Reuters](https://www.reuters.com/world/middle-east/syria-rebels-celebrate-captured-homs-set-sights-damascus-2024-12-07/)\", additional_kwargs={'refusal': None}, response_metadata={'token_usage': {'completion_tokens': 239, 'prompt_tokens': 3778, 'total_tokens': 4017, 'completion_tokens_details': {'accepted_prediction_tokens': 0, 'audio_tokens': 0, 'reasoning_tokens': 0, 'rejected_prediction_tokens': 0}, 'prompt_tokens_details': {'audio_tokens': 0, 'cached_tokens': 0}}, 'model_name': 'gpt-4o-2024-08-06', 'system_fingerprint': 'fp_5f20662549', 'finish_reason': 'stop', 'logprobs': None}, id='run-70322562-02d9-4323-9339-184d46136f80-0', usage_metadata={'input_tokens': 3778, 'output_tokens': 239, 'total_tokens': 4017, 'input_token_details': {'audio': 0, 'cache_read': 0}, 'output_token_details': {'audio': 0, 'reasoning': 0}})]}}, 'thread_id': '2', 'step': 18, 'parents': {}}, created_at='2025-01-04T18:23:41.124454+00:00', parent_config={'configurable': {'thread_id': '2', 'checkpoint_ns': '', 'checkpoint_id': '1efcac90-4120-6e6d-8011-96d2bdc87f85'}}, tasks=())"
            ]
          },
          "metadata": {},
          "execution_count": 43
        }
      ]
    }
  ]
}